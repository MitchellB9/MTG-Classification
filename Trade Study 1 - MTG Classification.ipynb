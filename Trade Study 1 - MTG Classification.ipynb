{
 "cells": [
  {
   "cell_type": "code",
   "execution_count": 123,
   "id": "0f656896",
   "metadata": {},
   "outputs": [],
   "source": [
    "import pandas as pd\n",
    "import pickle\n",
    "import matplotlib.pyplot as plt\n",
    "%matplotlib inline\n",
    "import matplotlib.cm as cm\n",
    "import numpy as np\n",
    "import random"
   ]
  },
  {
   "cell_type": "code",
   "execution_count": 124,
   "id": "9779ca54",
   "metadata": {},
   "outputs": [],
   "source": [
    "from sklearn.tree import DecisionTreeClassifier\n",
    "from sklearn.ensemble import RandomForestClassifier\n",
    "from sklearn.linear_model import LogisticRegression\n",
    "from sklearn.model_selection import train_test_split\n",
    "from sklearn.metrics import precision_recall_curve\n",
    "from sklearn.model_selection import cross_validate\n",
    "from sklearn.metrics import r2_score"
   ]
  },
  {
   "cell_type": "code",
   "execution_count": 125,
   "id": "d5eb0d19",
   "metadata": {},
   "outputs": [],
   "source": [
    "import warnings\n",
    "warnings.filterwarnings('ignore')"
   ]
  },
  {
   "cell_type": "code",
   "execution_count": 126,
   "id": "b470415c",
   "metadata": {},
   "outputs": [],
   "source": [
    "with open('big_cards', 'rb') as f: # 100% Of features\n",
    "    big_cards = pickle.load(f)\n",
    "    \n",
    "with open('big_top_50', 'rb') as f: # Top 50% of features\n",
    "    big_top_50 = pickle.load(f)"
   ]
  },
  {
   "cell_type": "code",
   "execution_count": 127,
   "id": "4e4cc257",
   "metadata": {},
   "outputs": [],
   "source": [
    "def quick_test(model, X, y):\n",
    "# The following splits result in: 60% Train, 20% Val, 20% Test\n",
    "    xtrain_val, xtest, ytrain_val, ytest = train_test_split(X, y, test_size=0.2)\n",
    "    xtrain, xval, ytrain, yval = train_test_split(xtrain_val, ytrain_val, test_size=0.25)   \n",
    "# val\n",
    "    model_60 = model.fit(xtrain, ytrain)\n",
    "    val_score = np.round(model_60.score(xval, yval), 3)\n",
    "# train\n",
    "    train_score = np.round(model_60.score(xtrain, ytrain), 3)\n",
    "# overfit        \n",
    "    overfit_score = np.round(abs(val_score-train_score), 4)\n",
    "# test   \n",
    "    model_80 = model.fit(xtrain_val, ytrain_val)\n",
    "    test_score = np.round(model_80.score(xtest, ytest), 3)\n",
    "    \n",
    "    return [val_score, train_score, overfit_score, test_score]"
   ]
  },
  {
   "cell_type": "code",
   "execution_count": 128,
   "id": "174e0dac",
   "metadata": {},
   "outputs": [],
   "source": [
    "def quick_predict(model, X, y):\n",
    "    xtrain, xtest, ytrain, ytest = train_test_split(X, y, test_size=0.3)\n",
    "    model.fit(xtrain, ytrain)\n",
    "    return model.predict(xtest), ytest\n",
    "\n",
    "def quick_probas(model, X, y):\n",
    "    xtrain, xtest, ytrain, ytest = train_test_split(X, y, test_size=0.3)\n",
    "    model.fit(xtrain, ytrain)\n",
    "    return model.predict_proba(xtest), ytest"
   ]
  },
  {
   "cell_type": "code",
   "execution_count": 129,
   "id": "d972415c",
   "metadata": {},
   "outputs": [],
   "source": [
    "X_100 = big_cards.drop('Binary_Rank', axis = 1)\n",
    "y_100 = big_cards.loc[:, 'Binary_Rank']"
   ]
  },
  {
   "cell_type": "code",
   "execution_count": 130,
   "id": "1e5c4012",
   "metadata": {},
   "outputs": [],
   "source": [
    "X_50 = big_top_50.drop('Binary_Rank', axis = 1)\n",
    "y_50 = big_top_50.loc[:, 'Binary_Rank']"
   ]
  },
  {
   "cell_type": "code",
   "execution_count": 131,
   "id": "fa77680e",
   "metadata": {},
   "outputs": [],
   "source": [
    "#xtrain_100, xtest_100, ytrain_100, ytest_100 = train_test_split(X_100, y_100, test_size=0.3)"
   ]
  },
  {
   "cell_type": "code",
   "execution_count": 132,
   "id": "a02a121d",
   "metadata": {},
   "outputs": [],
   "source": [
    "#xtrain_50, xtest_50, ytrain_50, ytest_50 = train_test_split(X_50, y_50, test_size=0.3)"
   ]
  },
  {
   "cell_type": "code",
   "execution_count": 133,
   "id": "a9c43ed9",
   "metadata": {},
   "outputs": [],
   "source": [
    "logreg_C_tenth = LogisticRegression(C = 0.1)\n",
    "logreg_C_one = LogisticRegression(C = 1)\n",
    "logreg_C_ten = LogisticRegression(C = 10)"
   ]
  },
  {
   "cell_type": "code",
   "execution_count": 65,
   "id": "9bb88ca3",
   "metadata": {},
   "outputs": [
    {
     "name": "stdout",
     "output_type": "stream",
     "text": [
      "Validation Score:... 0.7667831658657347\n",
      "Train Score:........ 0.7702482949442975\n",
      "Overfit Score:...... 0.0035\n",
      "Test Score:......... 0.7698412698412699\n"
     ]
    }
   ],
   "source": [
    "# 100% Features, C = 0.1:\n",
    "\n",
    "lr_10th = quick_test(logreg_C_tenth, X_100, y_100)\n",
    "\n",
    "print('Validation Score:...', lr_10th[0])\n",
    "print('Train Score:........', lr_10th[1])\n",
    "print('Overfit Score:......', lr_10th[2])\n",
    "print('Test Score:.........', lr_10th[3])"
   ]
  },
  {
   "cell_type": "code",
   "execution_count": 66,
   "id": "2dd4dcb1",
   "metadata": {},
   "outputs": [
    {
     "name": "stdout",
     "output_type": "stream",
     "text": [
      "Validation Score:... 0.7736274938109801\n",
      "Train Score:........ 0.7806363923205747\n",
      "Overfit Score:...... 0.007\n",
      "Test Score:......... 0.762341633901267\n"
     ]
    }
   ],
   "source": [
    "# 100% Features, C = 1:\n",
    "\n",
    "lr_1 = quick_test(logreg_C_one, X_100, y_100)\n",
    "\n",
    "print('Validation Score:...', lr_1[0])\n",
    "print('Train Score:........', lr_1[1])\n",
    "print('Overfit Score:......', lr_1[2])\n",
    "print('Test Score:.........', lr_1[3])"
   ]
  },
  {
   "cell_type": "code",
   "execution_count": 71,
   "id": "61146de2",
   "metadata": {},
   "outputs": [
    {
     "name": "stdout",
     "output_type": "stream",
     "text": [
      "Validation Score:... 0.7571719819426241\n",
      "Train Score:........ 0.760248537656853\n",
      "Overfit Score:...... 0.0031\n",
      "Test Score:......... 0.7699868938401049\n"
     ]
    }
   ],
   "source": [
    "# 100% Features, C = 10:\n",
    "\n",
    "lr_10 = quick_test(logreg_C_ten, X_100, y_100)\n",
    "\n",
    "print('Validation Score:...', lr_10[0])\n",
    "print('Train Score:........', lr_10[1])\n",
    "print('Overfit Score:......', lr_10[2])\n",
    "print('Test Score:.........', lr_10[3])"
   ]
  },
  {
   "cell_type": "code",
   "execution_count": 72,
   "id": "e7051fa8",
   "metadata": {},
   "outputs": [
    {
     "name": "stdout",
     "output_type": "stream",
     "text": [
      "Validation Score:... 0.7780690257754478\n",
      "Train Score:........ 0.783160602897988\n",
      "Overfit Score:...... 0.0051\n",
      "Test Score:......... 0.7831658657346731\n"
     ]
    }
   ],
   "source": [
    "# 50% Features, C = 0.1:\n",
    "\n",
    "lr_10th_50 = quick_test(logreg_C_tenth, X_50, y_50)\n",
    "\n",
    "print('Validation Score:...', lr_10th_50[0])\n",
    "print('Train Score:........', lr_10th_50[1])\n",
    "print('Overfit Score:......', lr_10th_50[2])\n",
    "print('Test Score:.........', lr_10th_50[3])"
   ]
  },
  {
   "cell_type": "code",
   "execution_count": 73,
   "id": "12fc9d06",
   "metadata": {},
   "outputs": [
    {
     "name": "stdout",
     "output_type": "stream",
     "text": [
      "Validation Score:... 0.7834571137323431\n",
      "Train Score:........ 0.791509914807893\n",
      "Overfit Score:...... 0.0081\n",
      "Test Score:......... 0.7862967817096257\n"
     ]
    }
   ],
   "source": [
    "# 50% Features, C = 1:\n",
    "\n",
    "lr_1_50 = quick_test(logreg_C_one, X_50, y_50)\n",
    "\n",
    "print('Validation Score:...', lr_1_50[0])\n",
    "print('Train Score:........', lr_1_50[1])\n",
    "print('Overfit Score:......', lr_1_50[2])\n",
    "print('Test Score:.........', lr_1_50[3])"
   ]
  },
  {
   "cell_type": "code",
   "execution_count": 74,
   "id": "c32c8ba3",
   "metadata": {},
   "outputs": [
    {
     "name": "stdout",
     "output_type": "stream",
     "text": [
      "Validation Score:... 0.7886267656909859\n",
      "Train Score:........ 0.7875294288973569\n",
      "Overfit Score:...... 0.0011\n",
      "Test Score:......... 0.7848405417212757\n"
     ]
    }
   ],
   "source": [
    "# 50% Features, C = 10:\n",
    "\n",
    "lr_10_50 = quick_test(logreg_C_ten, X_50, y_50)\n",
    "\n",
    "print('Validation Score:...', lr_10_50[0])\n",
    "print('Train Score:........', lr_10_50[1])\n",
    "print('Overfit Score:......', lr_10_50[2])\n",
    "print('Test Score:.........', lr_10_50[3])"
   ]
  },
  {
   "cell_type": "code",
   "execution_count": 82,
   "id": "8df8940d",
   "metadata": {},
   "outputs": [],
   "source": [
    "# Decision Trees:\n",
    "dt_depth_None = DecisionTreeClassifier(max_depth=None)\n",
    "dt_depth_16 = DecisionTreeClassifier(max_depth=16)\n",
    "dt_depth_4 = DecisionTreeClassifier(max_depth=4)"
   ]
  },
  {
   "cell_type": "code",
   "execution_count": 77,
   "id": "e242d320",
   "metadata": {},
   "outputs": [
    {
     "name": "stdout",
     "output_type": "stream",
     "text": [
      "Validation Score:... 0.8144750254841998\n",
      "Train Score:........ 0.9921118419455839\n",
      "Overfit Score:...... 0.1776\n",
      "Test Score:......... 0.8234309014125528\n"
     ]
    }
   ],
   "source": [
    "# 100% Features, Max Depth = None\n",
    "\n",
    "dt_None = quick_test(dt_depth_None, X_100, y_100)\n",
    "\n",
    "print('Validation Score:...', dt_None[0])\n",
    "print('Train Score:........', dt_None[1])\n",
    "print('Overfit Score:......', dt_None[2])\n",
    "print('Test Score:.........', dt_None[3])"
   ]
  },
  {
   "cell_type": "code",
   "execution_count": 83,
   "id": "727c66f6",
   "metadata": {},
   "outputs": [
    {
     "name": "stdout",
     "output_type": "stream",
     "text": [
      "Validation Score:... 0.8256152613950779\n",
      "Train Score:........ 0.8765806655178272\n",
      "Overfit Score:...... 0.051\n",
      "Test Score:......... 0.8262705693898355\n"
     ]
    }
   ],
   "source": [
    "# 100% Features, Max Depth = 16\n",
    "\n",
    "dt_16 = quick_test(dt_depth_16, X_100, y_100)\n",
    "\n",
    "print('Validation Score:...', dt_16[0])\n",
    "print('Train Score:........', dt_16[1])\n",
    "print('Overfit Score:......', dt_16[2])\n",
    "print('Test Score:.........', dt_16[3])"
   ]
  },
  {
   "cell_type": "code",
   "execution_count": 79,
   "id": "abbbd7eb",
   "metadata": {},
   "outputs": [
    {
     "name": "stdout",
     "output_type": "stream",
     "text": [
      "Validation Score:... 0.7512013979903888\n",
      "Train Score:........ 0.7468265333365695\n",
      "Overfit Score:...... 0.0044\n",
      "Test Score:......... 0.7546963739624291\n"
     ]
    }
   ],
   "source": [
    "# 100% Features, Max Depth = 4\n",
    "\n",
    "dt_4 = quick_test(dt_depth_4, X_100, y_100)\n",
    "\n",
    "print('Validation Score:...', dt_4[0])\n",
    "print('Train Score:........', dt_4[1])\n",
    "print('Overfit Score:......', dt_4[2])\n",
    "print('Test Score:.........', dt_4[3])"
   ]
  },
  {
   "cell_type": "code",
   "execution_count": 85,
   "id": "1bbeae03",
   "metadata": {},
   "outputs": [
    {
     "name": "stdout",
     "output_type": "stream",
     "text": [
      "Validation Score:... 0.795\n",
      "Train Score:........ 0.898\n",
      "Overfit Score:...... 0.103\n",
      "Test Score:......... 0.805\n"
     ]
    }
   ],
   "source": [
    "# 50% Features, Max Depth = None\n",
    "\n",
    "dt_None_50 = quick_test(dt_depth_None, X_50, y_50)\n",
    "\n",
    "print('Validation Score:...', dt_None_50[0])\n",
    "print('Train Score:........', dt_None_50[1])\n",
    "print('Overfit Score:......', dt_None_50[2])\n",
    "print('Test Score:.........', dt_None_50[3])"
   ]
  },
  {
   "cell_type": "code",
   "execution_count": 86,
   "id": "d83a7e52",
   "metadata": {},
   "outputs": [
    {
     "name": "stdout",
     "output_type": "stream",
     "text": [
      "Validation Score:... 0.803\n",
      "Train Score:........ 0.82\n",
      "Overfit Score:...... 0.017\n",
      "Test Score:......... 0.796\n"
     ]
    }
   ],
   "source": [
    "# 50% Features, Max Depth = 16\n",
    "\n",
    "dt_16_50 = quick_test(dt_depth_16, X_50, y_50)\n",
    "\n",
    "print('Validation Score:...', dt_16_50[0])\n",
    "print('Train Score:........', dt_16_50[1])\n",
    "print('Overfit Score:......', dt_16_50[2])\n",
    "print('Test Score:.........', dt_16_50[3])"
   ]
  },
  {
   "cell_type": "code",
   "execution_count": 87,
   "id": "63666f5b",
   "metadata": {},
   "outputs": [
    {
     "name": "stdout",
     "output_type": "stream",
     "text": [
      "Validation Score:... 0.725\n",
      "Train Score:........ 0.725\n",
      "Overfit Score:...... 0.0\n",
      "Test Score:......... 0.73\n"
     ]
    }
   ],
   "source": [
    "# 50% Features, Max Depth = 4\n",
    "\n",
    "dt_4_50 = quick_test(dt_depth_4, X_50, y_50)\n",
    "\n",
    "print('Validation Score:...', dt_4_50[0])\n",
    "print('Train Score:........', dt_4_50[1])\n",
    "print('Overfit Score:......', dt_4_50[2])\n",
    "print('Test Score:.........', dt_4_50[3])"
   ]
  },
  {
   "cell_type": "code",
   "execution_count": 88,
   "id": "b6a2fee3",
   "metadata": {},
   "outputs": [],
   "source": [
    "# Highest Eval Metric for decision trees determined to be at Max Depth = 16\n",
    "# Therefore, all random forests shall have Max Depth = 16"
   ]
  },
  {
   "cell_type": "code",
   "execution_count": 98,
   "id": "df6a5ff7",
   "metadata": {},
   "outputs": [],
   "source": [
    "rf_n_10_depth_none = RandomForestClassifier(n_estimators=10, max_depth=None)\n",
    "rf_n_100_depth_none = RandomForestClassifier(n_estimators=100, max_depth=None)\n",
    "rf_n_1000_depth_none = RandomForestClassifier(n_estimators=1000, max_depth=None)\n",
    "\n",
    "rf_n_10_depth_16 = RandomForestClassifier(n_estimators=10, max_depth=16)\n",
    "rf_n_100_depth_16 = RandomForestClassifier(n_estimators=100, max_depth=16)\n",
    "rf_n_1000_depth_16 = RandomForestClassifier(n_estimators=1000, max_depth=16)\n",
    "\n",
    "rf_n_10_depth_4 = RandomForestClassifier(n_estimators=10, max_depth=4)\n",
    "rf_n_100_depth_4 = RandomForestClassifier(n_estimators=100, max_depth=4)\n",
    "rf_n_1000_depth_4 = RandomForestClassifier(n_estimators=1000, max_depth=4)"
   ]
  },
  {
   "cell_type": "code",
   "execution_count": 99,
   "id": "f93bbf9c",
   "metadata": {},
   "outputs": [
    {
     "name": "stdout",
     "output_type": "stream",
     "text": [
      "Validation Score:... 0.842\n",
      "Train Score:........ 0.985\n",
      "Overfit Score:...... 0.143\n",
      "Test Score:......... 0.848\n"
     ]
    }
   ],
   "source": [
    "# 100% Features, n_estimators = 10, Max Depth = None\n",
    "\n",
    "rf_n_10_d_None = quick_test(rf_n_10_depth_none, X_100, y_100)\n",
    "\n",
    "print('Validation Score:...', rf_n_10_d_None[0])\n",
    "print('Train Score:........', rf_n_10_d_None[1])\n",
    "print('Overfit Score:......', rf_n_10_d_None[2])\n",
    "print('Test Score:.........', rf_n_10_d_None[3])"
   ]
  },
  {
   "cell_type": "code",
   "execution_count": 100,
   "id": "edb8a08d",
   "metadata": {},
   "outputs": [
    {
     "name": "stdout",
     "output_type": "stream",
     "text": [
      "Validation Score:... 0.853\n",
      "Train Score:........ 0.992\n",
      "Overfit Score:...... 0.139\n",
      "Test Score:......... 0.862\n"
     ]
    }
   ],
   "source": [
    "# 100% Features, n_estimators = 100, Max Depth = None\n",
    "\n",
    "rf_n_100_d_None = quick_test(rf_n_100_depth_none, X_100, y_100)\n",
    "\n",
    "print('Validation Score:...', rf_n_100_d_None[0])\n",
    "print('Train Score:........', rf_n_100_d_None[1])\n",
    "print('Overfit Score:......', rf_n_100_d_None[2])\n",
    "print('Test Score:.........', rf_n_100_d_None[3])"
   ]
  },
  {
   "cell_type": "code",
   "execution_count": 101,
   "id": "4735f247",
   "metadata": {},
   "outputs": [
    {
     "name": "stdout",
     "output_type": "stream",
     "text": [
      "Validation Score:... 0.859\n",
      "Train Score:........ 0.992\n",
      "Overfit Score:...... 0.133\n",
      "Test Score:......... 0.857\n"
     ]
    }
   ],
   "source": [
    "# 100% Features, n_estimators = 1000, Max Depth = None\n",
    "\n",
    "rf_n_1000_d_None = quick_test(rf_n_1000_depth_none, X_100, y_100)\n",
    "\n",
    "print('Validation Score:...', rf_n_1000_d_None[0])\n",
    "print('Train Score:........', rf_n_1000_d_None[1])\n",
    "print('Overfit Score:......', rf_n_1000_d_None[2])\n",
    "print('Test Score:.........', rf_n_1000_d_None[3])"
   ]
  },
  {
   "cell_type": "code",
   "execution_count": 103,
   "id": "5022549c",
   "metadata": {},
   "outputs": [
    {
     "name": "stdout",
     "output_type": "stream",
     "text": [
      "Validation Score:... 0.804\n",
      "Train Score:........ 0.895\n",
      "Overfit Score:...... 0.091\n",
      "Test Score:......... 0.808\n"
     ]
    }
   ],
   "source": [
    "# 50% Features, n_estimators = 10, Max Depth = None\n",
    "\n",
    "rf_n_10_50_d_None = quick_test(rf_n_10_depth_none, X_50, y_50)\n",
    "\n",
    "print('Validation Score:...', rf_n_10_50_d_None[0])\n",
    "print('Train Score:........', rf_n_10_50_d_None[1])\n",
    "print('Overfit Score:......', rf_n_10_50_d_None[2])\n",
    "print('Test Score:.........', rf_n_10_50_d_None[3])"
   ]
  },
  {
   "cell_type": "code",
   "execution_count": 104,
   "id": "92b2ef9e",
   "metadata": {},
   "outputs": [
    {
     "name": "stdout",
     "output_type": "stream",
     "text": [
      "Validation Score:... 0.813\n",
      "Train Score:........ 0.898\n",
      "Overfit Score:...... 0.085\n",
      "Test Score:......... 0.816\n"
     ]
    }
   ],
   "source": [
    "# 50% Features, n_estimators = 100, Max Depth = None\n",
    "\n",
    "rf_n_100_50_d_None = quick_test(rf_n_100_depth_none, X_50, y_50)\n",
    "\n",
    "print('Validation Score:...', rf_n_100_50_d_None[0])\n",
    "print('Train Score:........', rf_n_100_50_d_None[1])\n",
    "print('Overfit Score:......', rf_n_100_50_d_None[2])\n",
    "print('Test Score:.........', rf_n_100_50_d_None[3])"
   ]
  },
  {
   "cell_type": "code",
   "execution_count": 105,
   "id": "8451b7e8",
   "metadata": {},
   "outputs": [
    {
     "name": "stdout",
     "output_type": "stream",
     "text": [
      "Validation Score:... 0.815\n",
      "Train Score:........ 0.898\n",
      "Overfit Score:...... 0.083\n",
      "Test Score:......... 0.816\n"
     ]
    }
   ],
   "source": [
    "# 50% Features, n_estimators = 1000, Max Depth = None\n",
    "\n",
    "rf_n_1000_50_d_None = quick_test(rf_n_1000_depth_none, X_50, y_50)\n",
    "\n",
    "print('Validation Score:...', rf_n_1000_50_d_None[0])\n",
    "print('Train Score:........', rf_n_1000_50_d_None[1])\n",
    "print('Overfit Score:......', rf_n_1000_50_d_None[2])\n",
    "print('Test Score:.........', rf_n_1000_50_d_None[3])"
   ]
  },
  {
   "cell_type": "code",
   "execution_count": 90,
   "id": "44079edd",
   "metadata": {},
   "outputs": [
    {
     "name": "stdout",
     "output_type": "stream",
     "text": [
      "Validation Score:... 0.79\n",
      "Train Score:........ 0.81\n",
      "Overfit Score:...... 0.02\n",
      "Test Score:......... 0.793\n"
     ]
    }
   ],
   "source": [
    "# 100% Features, n_estimators = 10, Max Depth = 16\n",
    "\n",
    "rf_n_10_d_16 = quick_test(rf_n_10_depth_16, X_100, y_100)\n",
    "\n",
    "print('Validation Score:...', rf_n_10_d_16[0])\n",
    "print('Train Score:........', rf_n_10_d_16[1])\n",
    "print('Overfit Score:......', rf_n_10_d_16[2])\n",
    "print('Test Score:.........', rf_n_10_d_16[3])"
   ]
  },
  {
   "cell_type": "code",
   "execution_count": 91,
   "id": "0292e169",
   "metadata": {},
   "outputs": [
    {
     "name": "stdout",
     "output_type": "stream",
     "text": [
      "Validation Score:... 0.803\n",
      "Train Score:........ 0.821\n",
      "Overfit Score:...... 0.018\n",
      "Test Score:......... 0.802\n"
     ]
    }
   ],
   "source": [
    "# 100% Features, n_estimators = 100, Max Depth = 16\n",
    "\n",
    "rf_n_100_d_16 = quick_test(rf_n_100_depth_16, X_100, y_100)\n",
    "\n",
    "print('Validation Score:...', rf_n_100_d_16[0])\n",
    "print('Train Score:........', rf_n_100_d_16[1])\n",
    "print('Overfit Score:......', rf_n_100_d_16[2])\n",
    "print('Test Score:.........', rf_n_100_d_16[3])"
   ]
  },
  {
   "cell_type": "code",
   "execution_count": 92,
   "id": "40bde057",
   "metadata": {},
   "outputs": [
    {
     "name": "stdout",
     "output_type": "stream",
     "text": [
      "Validation Score:... 0.801\n",
      "Train Score:........ 0.822\n",
      "Overfit Score:...... 0.021\n",
      "Test Score:......... 0.803\n"
     ]
    }
   ],
   "source": [
    "# 100% Features, n_estimators = 1000, Max Depth = 16\n",
    "\n",
    "rf_n_1000_d_16 = quick_test(rf_n_1000_depth_16, X_100, y_100)\n",
    "\n",
    "print('Validation Score:...', rf_n_1000_d_16[0])\n",
    "print('Train Score:........', rf_n_1000_d_16[1])\n",
    "print('Overfit Score:......', rf_n_1000_d_16[2])\n",
    "print('Test Score:.........', rf_n_1000_d_16[3])"
   ]
  },
  {
   "cell_type": "code",
   "execution_count": 95,
   "id": "2fc6858d",
   "metadata": {},
   "outputs": [
    {
     "name": "stdout",
     "output_type": "stream",
     "text": [
      "Validation Score:... 0.775\n",
      "Train Score:........ 0.793\n",
      "Overfit Score:...... 0.018\n",
      "Test Score:......... 0.778\n"
     ]
    }
   ],
   "source": [
    "# 50% Features, n_estimators = 10, Max Depth = 16\n",
    "\n",
    "rf_n_10_50_d_16 = quick_test(rf_n_10_depth_16, X_50, y_50)\n",
    "\n",
    "print('Validation Score:...', rf_n_10_50_d_16[0])\n",
    "print('Train Score:........', rf_n_10_50_d_16[1])\n",
    "print('Overfit Score:......', rf_n_10_50_d_16[2])\n",
    "print('Test Score:.........', rf_n_10_50_d_16[3])"
   ]
  },
  {
   "cell_type": "code",
   "execution_count": 96,
   "id": "0750bc65",
   "metadata": {},
   "outputs": [
    {
     "name": "stdout",
     "output_type": "stream",
     "text": [
      "Validation Score:... 0.792\n",
      "Train Score:........ 0.799\n",
      "Overfit Score:...... 0.007\n",
      "Test Score:......... 0.794\n"
     ]
    }
   ],
   "source": [
    "# 50% Features, n_estimators = 100, Max Depth = 16\n",
    "\n",
    "rf_n_100_50_d_16 = quick_test(rf_n_100_depth_16, X_50, y_50)\n",
    "\n",
    "print('Validation Score:...', rf_n_100_50_d_16[0])\n",
    "print('Train Score:........', rf_n_100_50_d_16[1])\n",
    "print('Overfit Score:......', rf_n_100_50_d_16[2])\n",
    "print('Test Score:.........', rf_n_100_50_d_16[3])"
   ]
  },
  {
   "cell_type": "code",
   "execution_count": 97,
   "id": "bfd0ead3",
   "metadata": {},
   "outputs": [
    {
     "name": "stdout",
     "output_type": "stream",
     "text": [
      "Validation Score:... 0.792\n",
      "Train Score:........ 0.799\n",
      "Overfit Score:...... 0.007\n",
      "Test Score:......... 0.786\n"
     ]
    }
   ],
   "source": [
    "# 50% Features, n_estimators = 1000, Max Depth = 16\n",
    "\n",
    "rf_n_1000_50_d_16 = quick_test(rf_n_1000_depth_16, X_50, y_50)\n",
    "\n",
    "print('Validation Score:...', rf_n_1000_50_d_16[0])\n",
    "print('Train Score:........', rf_n_1000_50_d_16[1])\n",
    "print('Overfit Score:......', rf_n_1000_50_d_16[2])\n",
    "print('Test Score:.........', rf_n_1000_50_d_16[3])"
   ]
  },
  {
   "cell_type": "code",
   "execution_count": 106,
   "id": "9a8e15e6",
   "metadata": {},
   "outputs": [
    {
     "name": "stdout",
     "output_type": "stream",
     "text": [
      "Validation Score:... 0.703\n",
      "Train Score:........ 0.701\n",
      "Overfit Score:...... 0.002\n",
      "Test Score:......... 0.707\n"
     ]
    }
   ],
   "source": [
    "# 100% Features, n_estimators = 10, Max Depth = 4\n",
    "\n",
    "rf_n_10_d_4 = quick_test(rf_n_10_depth_4, X_100, y_100)\n",
    "\n",
    "print('Validation Score:...', rf_n_10_d_4[0])\n",
    "print('Train Score:........', rf_n_10_d_4[1])\n",
    "print('Overfit Score:......', rf_n_10_d_4[2])\n",
    "print('Test Score:.........', rf_n_10_d_4[3])"
   ]
  },
  {
   "cell_type": "code",
   "execution_count": 107,
   "id": "4462751e",
   "metadata": {},
   "outputs": [
    {
     "name": "stdout",
     "output_type": "stream",
     "text": [
      "Validation Score:... 0.731\n",
      "Train Score:........ 0.724\n",
      "Overfit Score:...... 0.007\n",
      "Test Score:......... 0.706\n"
     ]
    }
   ],
   "source": [
    "# 100% Features, n_estimators = 100, Max Depth = 4\n",
    "\n",
    "rf_n_100_d_4 = quick_test(rf_n_100_depth_4, X_100, y_100)\n",
    "\n",
    "print('Validation Score:...', rf_n_100_d_4[0])\n",
    "print('Train Score:........', rf_n_100_d_4[1])\n",
    "print('Overfit Score:......', rf_n_100_d_4[2])\n",
    "print('Test Score:.........', rf_n_100_d_4[3])"
   ]
  },
  {
   "cell_type": "code",
   "execution_count": 108,
   "id": "d45eb078",
   "metadata": {},
   "outputs": [
    {
     "name": "stdout",
     "output_type": "stream",
     "text": [
      "Validation Score:... 0.728\n",
      "Train Score:........ 0.722\n",
      "Overfit Score:...... 0.006\n",
      "Test Score:......... 0.71\n"
     ]
    }
   ],
   "source": [
    "# 100% Features, n_estimators = 1000, Max Depth = 4\n",
    "\n",
    "rf_n_1000_d_4 = quick_test(rf_n_1000_depth_4, X_100, y_100)\n",
    "\n",
    "print('Validation Score:...', rf_n_1000_d_4[0])\n",
    "print('Train Score:........', rf_n_1000_d_4[1])\n",
    "print('Overfit Score:......', rf_n_1000_d_4[2])\n",
    "print('Test Score:.........', rf_n_1000_d_4[3])"
   ]
  },
  {
   "cell_type": "code",
   "execution_count": 109,
   "id": "44c3c8c0",
   "metadata": {},
   "outputs": [
    {
     "name": "stdout",
     "output_type": "stream",
     "text": [
      "Validation Score:... 0.708\n",
      "Train Score:........ 0.709\n",
      "Overfit Score:...... 0.001\n",
      "Test Score:......... 0.715\n"
     ]
    }
   ],
   "source": [
    "# 50% Features, n_estimators = 10, Max Depth = 4\n",
    "\n",
    "rf_n_10_50_d_4 = quick_test(rf_n_10_depth_4, X_50, y_50)\n",
    "\n",
    "print('Validation Score:...', rf_n_10_50_d_4[0])\n",
    "print('Train Score:........', rf_n_10_50_d_4[1])\n",
    "print('Overfit Score:......', rf_n_10_50_d_4[2])\n",
    "print('Test Score:.........', rf_n_10_50_d_4[3])"
   ]
  },
  {
   "cell_type": "code",
   "execution_count": 110,
   "id": "234390c0",
   "metadata": {},
   "outputs": [
    {
     "name": "stdout",
     "output_type": "stream",
     "text": [
      "Validation Score:... 0.712\n",
      "Train Score:........ 0.717\n",
      "Overfit Score:...... 0.005\n",
      "Test Score:......... 0.72\n"
     ]
    }
   ],
   "source": [
    "# 50% Features, n_estimators = 100, Max Depth = 4\n",
    "\n",
    "rf_n_100_50_d_4 = quick_test(rf_n_100_depth_4, X_50, y_50)\n",
    "\n",
    "print('Validation Score:...', rf_n_100_50_d_4[0])\n",
    "print('Train Score:........', rf_n_100_50_d_4[1])\n",
    "print('Overfit Score:......', rf_n_100_50_d_4[2])\n",
    "print('Test Score:.........', rf_n_100_50_d_4[3])"
   ]
  },
  {
   "cell_type": "code",
   "execution_count": 111,
   "id": "10044c4c",
   "metadata": {},
   "outputs": [
    {
     "name": "stdout",
     "output_type": "stream",
     "text": [
      "Validation Score:... 0.72\n",
      "Train Score:........ 0.72\n",
      "Overfit Score:...... 0.0\n",
      "Test Score:......... 0.721\n"
     ]
    }
   ],
   "source": [
    "# 50% Features, n_estimators = 1000, Max Depth = 4\n",
    "\n",
    "rf_n_1000_50_d_4 = quick_test(rf_n_1000_depth_4, X_50, y_50)\n",
    "\n",
    "print('Validation Score:...', rf_n_1000_50_d_4[0])\n",
    "print('Train Score:........', rf_n_1000_50_d_4[1])\n",
    "print('Overfit Score:......', rf_n_1000_50_d_4[2])\n",
    "print('Test Score:.........', rf_n_1000_50_d_4[3])"
   ]
  },
  {
   "cell_type": "code",
   "execution_count": null,
   "id": "3d2238c8",
   "metadata": {},
   "outputs": [],
   "source": []
  }
 ],
 "metadata": {
  "kernelspec": {
   "display_name": "Python 3 (ipykernel)",
   "language": "python",
   "name": "python3"
  },
  "language_info": {
   "codemirror_mode": {
    "name": "ipython",
    "version": 3
   },
   "file_extension": ".py",
   "mimetype": "text/x-python",
   "name": "python",
   "nbconvert_exporter": "python",
   "pygments_lexer": "ipython3",
   "version": "3.9.7"
  }
 },
 "nbformat": 4,
 "nbformat_minor": 5
}
