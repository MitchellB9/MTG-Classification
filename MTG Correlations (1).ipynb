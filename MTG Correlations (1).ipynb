{
 "cells": [
  {
   "cell_type": "code",
   "execution_count": 1,
   "id": "0302550a",
   "metadata": {},
   "outputs": [],
   "source": [
    "import pandas as pd\n",
    "import pickle\n",
    "import matplotlib.pyplot as plt\n",
    "from matplotlib import rcParams\n",
    "import seaborn as sns\n",
    "import numpy as np\n",
    "import statsmodels.api as sm\n",
    "from scipy import stats\n",
    "from pathlib import Path  \n",
    "from sklearn.tree import DecisionTreeClassifier\n",
    "from sklearn.ensemble import RandomForestClassifier\n",
    "from sklearn.linear_model import LogisticRegression\n",
    "from sklearn.model_selection import train_test_split\n",
    "from sklearn.metrics import precision_recall_curve"
   ]
  },
  {
   "cell_type": "code",
   "execution_count": 2,
   "id": "3e40429a",
   "metadata": {},
   "outputs": [],
   "source": [
    "with open('big_cards', 'rb') as f:\n",
    "    big_cards = pickle.load(f)\n",
    "    \n",
    "with open('unique_cards_cleaned', 'rb') as f:\n",
    "    unique_cards_cleaned = pickle.load(f)"
   ]
  },
  {
   "cell_type": "code",
   "execution_count": 3,
   "id": "35dcd23e",
   "metadata": {},
   "outputs": [],
   "source": [
    "Binary_Rank = big_cards['Binary_Rank']\n",
    "big_cards = big_cards.drop(columns=['Binary_Rank'])\n",
    "big_cards.insert(loc=0, column='Binary_Rank', value=Binary_Rank)\n",
    "\n",
    "Binary_Rank = unique_cards_cleaned['Binary_Rank']\n",
    "unique_cards_cleaned = unique_cards_cleaned.drop(columns=['Binary_Rank'])\n",
    "unique_cards_cleaned.insert(loc=0, column='Binary_Rank', value=Binary_Rank)"
   ]
  },
  {
   "cell_type": "code",
   "execution_count": 4,
   "id": "9bf399df",
   "metadata": {},
   "outputs": [],
   "source": [
    "# pd.set_option('max_columns', None)\n",
    "big_corr = big_cards.corr()\n",
    "unique_corr = unique_cards_cleaned.corr()"
   ]
  },
  {
   "cell_type": "code",
   "execution_count": 5,
   "id": "fe80b7ed",
   "metadata": {},
   "outputs": [],
   "source": [
    "corr_col = big_corr['Binary_Rank']\n",
    "corr_col_u = unique_corr['Binary_Rank']"
   ]
  },
  {
   "cell_type": "code",
   "execution_count": 6,
   "id": "3396ac14",
   "metadata": {},
   "outputs": [],
   "source": [
    "# pd.set_option('max_rows', None)\n",
    "# corr_col.sort_values(ascending = True)"
   ]
  },
  {
   "cell_type": "code",
   "execution_count": 7,
   "id": "be240767",
   "metadata": {},
   "outputs": [],
   "source": [
    "# corr_col.describe()"
   ]
  },
  {
   "cell_type": "code",
   "execution_count": 8,
   "id": "7424036b",
   "metadata": {},
   "outputs": [],
   "source": [
    "abs_corr_col = corr_col.apply(lambda x: abs(x))\n",
    "abs_corr_col_u = corr_col_u.apply(lambda x: abs(x))"
   ]
  },
  {
   "cell_type": "code",
   "execution_count": 9,
   "id": "3703c734",
   "metadata": {},
   "outputs": [],
   "source": [
    "# abs_corr_col.shape"
   ]
  },
  {
   "cell_type": "code",
   "execution_count": 10,
   "id": "c5250d8d",
   "metadata": {},
   "outputs": [],
   "source": [
    "bot_50_corr = abs_corr_col.drop(axis = 0, labels = ['Binary_Rank'])\n",
    "bot_50_corr_u = abs_corr_col_u.drop(axis = 0, labels = ['Binary_Rank'])"
   ]
  },
  {
   "cell_type": "code",
   "execution_count": 11,
   "id": "cf31d301",
   "metadata": {},
   "outputs": [],
   "source": [
    "bot_50_corr.sort_values(ascending = False, inplace = True)\n",
    "bot_50_corr_u.sort_values(ascending = False, inplace = True)"
   ]
  },
  {
   "cell_type": "code",
   "execution_count": 12,
   "id": "a5cc81f0",
   "metadata": {},
   "outputs": [],
   "source": [
    "bot_50_corr = bot_50_corr.tail(377)\n",
    "bot_50_corr_u = bot_50_corr_u.tail(377)"
   ]
  },
  {
   "cell_type": "code",
   "execution_count": 13,
   "id": "3fddf8d8",
   "metadata": {},
   "outputs": [],
   "source": [
    "# len(bot_50_corr)"
   ]
  },
  {
   "cell_type": "code",
   "execution_count": 14,
   "id": "70f5a209",
   "metadata": {},
   "outputs": [],
   "source": [
    "# bot_50_corr.to_frame()"
   ]
  },
  {
   "cell_type": "code",
   "execution_count": 15,
   "id": "d96e0127",
   "metadata": {},
   "outputs": [],
   "source": [
    "drop_cols = list(bot_50_corr.index.values)\n",
    "drop_cols_u = list(bot_50_corr_u.index.values)"
   ]
  },
  {
   "cell_type": "code",
   "execution_count": 17,
   "id": "4da59da2",
   "metadata": {},
   "outputs": [],
   "source": [
    "big_top_50 = big_cards.drop(columns = drop_cols, axis = 1)\n",
    "unique_top_50 = unique_cards_cleaned.drop(columns = drop_cols_u, axis = 1)"
   ]
  },
  {
   "cell_type": "code",
   "execution_count": 18,
   "id": "40485f19",
   "metadata": {},
   "outputs": [
    {
     "data": {
      "text/plain": [
       "(68669, 378)"
      ]
     },
     "execution_count": 18,
     "metadata": {},
     "output_type": "execute_result"
    }
   ],
   "source": [
    "# pd.set_option('max_columns', None)\n",
    "big_top_50.shape"
   ]
  },
  {
   "cell_type": "code",
   "execution_count": 20,
   "id": "9e9d1413",
   "metadata": {},
   "outputs": [
    {
     "data": {
      "text/plain": [
       "(25981, 377)"
      ]
     },
     "execution_count": 20,
     "metadata": {},
     "output_type": "execute_result"
    }
   ],
   "source": [
    "unique_top_50.shape"
   ]
  },
  {
   "cell_type": "code",
   "execution_count": 21,
   "id": "eabe3b5a",
   "metadata": {},
   "outputs": [],
   "source": [
    "with open('big_top_50', 'wb') as f:\n",
    "    pickle.dump(big_top_50,f)\n",
    "    \n",
    "with open('unique_top_50', 'wb') as f:\n",
    "    pickle.dump(unique_top_50,f)"
   ]
  },
  {
   "cell_type": "code",
   "execution_count": null,
   "id": "2e6d09ed",
   "metadata": {},
   "outputs": [],
   "source": []
  }
 ],
 "metadata": {
  "kernelspec": {
   "display_name": "Python 3 (ipykernel)",
   "language": "python",
   "name": "python3"
  },
  "language_info": {
   "codemirror_mode": {
    "name": "ipython",
    "version": 3
   },
   "file_extension": ".py",
   "mimetype": "text/x-python",
   "name": "python",
   "nbconvert_exporter": "python",
   "pygments_lexer": "ipython3",
   "version": "3.9.7"
  }
 },
 "nbformat": 4,
 "nbformat_minor": 5
}
