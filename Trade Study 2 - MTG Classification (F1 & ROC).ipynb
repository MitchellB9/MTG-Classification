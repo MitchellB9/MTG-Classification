{
 "cells": [
  {
   "cell_type": "code",
   "execution_count": 1,
   "id": "0f656896",
   "metadata": {},
   "outputs": [],
   "source": [
    "import pandas as pd\n",
    "import pickle\n",
    "import matplotlib.pyplot as plt\n",
    "%matplotlib inline\n",
    "import matplotlib.cm as cm\n",
    "import numpy as np\n",
    "import random"
   ]
  },
  {
   "cell_type": "code",
   "execution_count": 71,
   "id": "9779ca54",
   "metadata": {},
   "outputs": [],
   "source": [
    "from sklearn.tree import DecisionTreeClassifier\n",
    "from sklearn.ensemble import RandomForestClassifier,AdaBoostClassifier,GradientBoostingClassifier\n",
    "from sklearn.linear_model import LogisticRegression\n",
    "from sklearn.model_selection import train_test_split\n",
    "from sklearn.metrics import precision_recall_curve\n",
    "from sklearn.model_selection import cross_validate\n",
    "from sklearn.metrics import f1_score\n",
    "from sklearn.metrics import roc_auc_score\n",
    "from sklearn.ensemble import GradientBoostingClassifier\n",
    "from sklearn.ensemble import StackingClassifier"
   ]
  },
  {
   "cell_type": "code",
   "execution_count": 3,
   "id": "d5eb0d19",
   "metadata": {},
   "outputs": [],
   "source": [
    "import warnings\n",
    "warnings.filterwarnings('ignore')"
   ]
  },
  {
   "cell_type": "code",
   "execution_count": 4,
   "id": "b470415c",
   "metadata": {},
   "outputs": [],
   "source": [
    "with open('big_cards', 'rb') as f: # 100% Of features\n",
    "    big_cards = pickle.load(f)\n",
    "    \n",
    "with open('big_top_50', 'rb') as f: # Top 50% of features\n",
    "    big_top_50 = pickle.load(f)"
   ]
  },
  {
   "cell_type": "code",
   "execution_count": 35,
   "id": "4e4cc257",
   "metadata": {},
   "outputs": [],
   "source": [
    "def quick_test(model, X, y):\n",
    "# The following splits result in: 60% Train, 20% Val, 20% Test\n",
    "    xtrain_val, xtest, ytrain_val, ytest = train_test_split(X, y, test_size=0.2)\n",
    "    xtrain, xval, ytrain, yval = train_test_split(xtrain_val, ytrain_val, test_size=0.25)   \n",
    "# val\n",
    "    model_60 = model.fit(xtrain, ytrain)\n",
    "    val_score = np.round(model_60.score(xval, yval), 3)\n",
    "# train\n",
    "    train_score = np.round(model_60.score(xtrain, ytrain), 3)\n",
    "# overfit        \n",
    "    overfit_score = np.round(abs(val_score-train_score), 4)\n",
    "# test   \n",
    "    model_80 = model.fit(xtrain_val, ytrain_val)\n",
    "    test_score = np.round(model_80.score(xtest, ytest), 3)\n",
    "# F1\n",
    "    y_true = ytest\n",
    "    y_pred = model_80.predict(xtest)\n",
    "# ROC AUC\n",
    "    y_score = model_80.predict_proba(xtest)\n",
    "    \n",
    "    return [val_score, train_score, overfit_score, test_score, y_true, y_pred, y_score, model_80]"
   ]
  },
  {
   "cell_type": "code",
   "execution_count": 6,
   "id": "174e0dac",
   "metadata": {},
   "outputs": [],
   "source": [
    "def quick_predict(model, X, y):\n",
    "    xtrain, xtest, ytrain, ytest = train_test_split(X, y, test_size=0.3)\n",
    "    model.fit(xtrain, ytrain)\n",
    "    return model.predict(xtest), ytest\n",
    "\n",
    "def quick_probas(model, X, y):\n",
    "    xtrain, xtest, ytrain, ytest = train_test_split(X, y, test_size=0.3)\n",
    "    model.fit(xtrain, ytrain)\n",
    "    return model.predict_proba(xtest), ytest"
   ]
  },
  {
   "cell_type": "code",
   "execution_count": 7,
   "id": "469253dc",
   "metadata": {},
   "outputs": [],
   "source": [
    "X_100 = big_cards.drop('Binary_Rank', axis = 1)\n",
    "y_100 = big_cards.loc[:, 'Binary_Rank']"
   ]
  },
  {
   "cell_type": "code",
   "execution_count": 8,
   "id": "7ede1ddb",
   "metadata": {},
   "outputs": [],
   "source": [
    "X_50 = big_top_50.drop('Binary_Rank', axis = 1)\n",
    "y_50 = big_top_50.loc[:, 'Binary_Rank']"
   ]
  },
  {
   "cell_type": "code",
   "execution_count": 9,
   "id": "a226e6ff",
   "metadata": {},
   "outputs": [],
   "source": [
    "#xtrain_100, xtest_100, ytrain_100, ytest_100 = train_test_split(X_100, y_100, test_size=0.3)"
   ]
  },
  {
   "cell_type": "code",
   "execution_count": 10,
   "id": "8dcf22ca",
   "metadata": {},
   "outputs": [],
   "source": [
    "#xtrain_50, xtest_50, ytrain_50, ytest_50 = train_test_split(X_50, y_50, test_size=0.3)"
   ]
  },
  {
   "cell_type": "code",
   "execution_count": 11,
   "id": "367d0869",
   "metadata": {},
   "outputs": [],
   "source": [
    "logreg_C_tenth = LogisticRegression(C = 0.1)\n",
    "logreg_C_one = LogisticRegression(C = 1)\n",
    "logreg_C_ten = LogisticRegression(C = 10)"
   ]
  },
  {
   "cell_type": "code",
   "execution_count": 12,
   "id": "5b9271e7",
   "metadata": {},
   "outputs": [
    {
     "name": "stdout",
     "output_type": "stream",
     "text": [
      "F1 Score:........ 0.795\n",
      "ROC AUC Score:... 0.85\n"
     ]
    }
   ],
   "source": [
    "# F1 Score\n",
    "# 100% Features, C = 0.1:\n",
    "test_results = quick_test(logreg_C_tenth, X_100, y_100)\n",
    "y_true = test_results[4]\n",
    "y_pred = test_results[5]\n",
    "F1_C_tenth = np.round(f1_score(y_true, y_pred), 3)\n",
    "y_score = test_results[6][:,1]\n",
    "ROC_AUC_C_tenth = np.round(roc_auc_score(y_true, y_score), 3)\n",
    "print('F1 Score:........', F1_C_tenth)\n",
    "print('ROC AUC Score:...', ROC_AUC_C_tenth)"
   ]
  },
  {
   "cell_type": "code",
   "execution_count": 13,
   "id": "f26ab2ba",
   "metadata": {},
   "outputs": [
    {
     "name": "stdout",
     "output_type": "stream",
     "text": [
      "F1 Score:........ 0.806\n",
      "ROC AUC Score:... 0.859\n"
     ]
    }
   ],
   "source": [
    "# F1 Score\n",
    "# 100% Features, C = 1:\n",
    "test_results = quick_test(logreg_C_one, X_100, y_100)\n",
    "y_true = test_results[4]\n",
    "y_pred = test_results[5]\n",
    "F1_C_tenth = np.round(f1_score(y_true, y_pred), 3)\n",
    "y_score = test_results[6][:,1]\n",
    "ROC_AUC_C_tenth = np.round(roc_auc_score(y_true, y_score), 3)\n",
    "print('F1 Score:........', F1_C_tenth)\n",
    "print('ROC AUC Score:...', ROC_AUC_C_tenth)"
   ]
  },
  {
   "cell_type": "code",
   "execution_count": 14,
   "id": "e9327624",
   "metadata": {},
   "outputs": [
    {
     "name": "stdout",
     "output_type": "stream",
     "text": [
      "F1 Score:........ 0.789\n",
      "ROC AUC Score:... 0.846\n"
     ]
    }
   ],
   "source": [
    "# F1 Score\n",
    "# 100% Features, C = 10:\n",
    "test_results = quick_test(logreg_C_ten, X_100, y_100)\n",
    "y_true = test_results[4]\n",
    "y_pred = test_results[5]\n",
    "F1_C_tenth = np.round(f1_score(y_true, y_pred), 3)\n",
    "y_score = test_results[6][:,1]\n",
    "ROC_AUC_C_tenth = np.round(roc_auc_score(y_true, y_score), 3)\n",
    "print('F1 Score:........', F1_C_tenth)\n",
    "print('ROC AUC Score:...', ROC_AUC_C_tenth)"
   ]
  },
  {
   "cell_type": "code",
   "execution_count": 15,
   "id": "a4442526",
   "metadata": {},
   "outputs": [
    {
     "name": "stdout",
     "output_type": "stream",
     "text": [
      "F1 Score:........ 0.809\n",
      "ROC AUC Score:... 0.869\n"
     ]
    }
   ],
   "source": [
    "# F1 Score\n",
    "# 50% Features, C = 0.1:\n",
    "test_results = quick_test(logreg_C_tenth, X_50, y_50)\n",
    "y_true = test_results[4]\n",
    "y_pred = test_results[5]\n",
    "F1_C_tenth = np.round(f1_score(y_true, y_pred), 3)\n",
    "y_score = test_results[6][:,1]\n",
    "ROC_AUC_C_tenth = np.round(roc_auc_score(y_true, y_score), 3)\n",
    "print('F1 Score:........', F1_C_tenth)\n",
    "print('ROC AUC Score:...', ROC_AUC_C_tenth)"
   ]
  },
  {
   "cell_type": "code",
   "execution_count": 16,
   "id": "e6835011",
   "metadata": {},
   "outputs": [
    {
     "name": "stdout",
     "output_type": "stream",
     "text": [
      "F1 Score:........ 0.811\n",
      "ROC AUC Score:... 0.874\n"
     ]
    }
   ],
   "source": [
    "# F1 Score\n",
    "# 50% Features, C = 1:\n",
    "test_results = quick_test(logreg_C_one, X_50, y_50)\n",
    "y_true = test_results[4]\n",
    "y_pred = test_results[5]\n",
    "F1_C_tenth = np.round(f1_score(y_true, y_pred), 3)\n",
    "y_score = test_results[6][:,1]\n",
    "ROC_AUC_C_tenth = np.round(roc_auc_score(y_true, y_score), 3)\n",
    "print('F1 Score:........', F1_C_tenth)\n",
    "print('ROC AUC Score:...', ROC_AUC_C_tenth)"
   ]
  },
  {
   "cell_type": "code",
   "execution_count": 18,
   "id": "45484c57",
   "metadata": {},
   "outputs": [
    {
     "name": "stdout",
     "output_type": "stream",
     "text": [
      "F1 Score:........ 0.814\n",
      "ROC AUC Score:... 0.874\n"
     ]
    }
   ],
   "source": [
    "# F1 Score\n",
    "# 50% Features, C = 10:\n",
    "test_results = quick_test(logreg_C_ten, X_50, y_50)\n",
    "y_true = test_results[4]\n",
    "y_pred = test_results[5]\n",
    "F1_C_tenth = np.round(f1_score(y_true, y_pred), 3)\n",
    "y_score = test_results[6][:,1]\n",
    "ROC_AUC_C_tenth = np.round(roc_auc_score(y_true, y_score), 3)\n",
    "print('F1 Score:........', F1_C_tenth)\n",
    "print('ROC AUC Score:...', ROC_AUC_C_tenth)"
   ]
  },
  {
   "cell_type": "code",
   "execution_count": 20,
   "id": "b7d75731",
   "metadata": {},
   "outputs": [],
   "source": [
    "# Decision Trees:\n",
    "dt_depth_None = DecisionTreeClassifier(max_depth=None)\n",
    "dt_depth_16 = DecisionTreeClassifier(max_depth=16)\n",
    "dt_depth_4 = DecisionTreeClassifier(max_depth=4)"
   ]
  },
  {
   "cell_type": "code",
   "execution_count": 21,
   "id": "6f000e52",
   "metadata": {},
   "outputs": [
    {
     "name": "stdout",
     "output_type": "stream",
     "text": [
      "F1 Score:........ 0.843\n",
      "ROC AUC Score:... 0.825\n"
     ]
    }
   ],
   "source": [
    "# F1 & ROC Score\n",
    "# 100% Features, Max Depth = None:\n",
    "test_results = quick_test(dt_depth_None, X_100, y_100)\n",
    "y_true = test_results[4]\n",
    "y_pred = test_results[5]\n",
    "F1_C_tenth = np.round(f1_score(y_true, y_pred), 3)\n",
    "y_score = test_results[6][:,1]\n",
    "ROC_AUC_C_tenth = np.round(roc_auc_score(y_true, y_score), 3)\n",
    "print('F1 Score:........', F1_C_tenth)\n",
    "print('ROC AUC Score:...', ROC_AUC_C_tenth)"
   ]
  },
  {
   "cell_type": "code",
   "execution_count": 22,
   "id": "9ce390e6",
   "metadata": {},
   "outputs": [
    {
     "name": "stdout",
     "output_type": "stream",
     "text": [
      "F1 Score:........ 0.847\n",
      "ROC AUC Score:... 0.882\n"
     ]
    }
   ],
   "source": [
    "# F1 & ROC Score\n",
    "# 100% Features, Max Depth = 16:\n",
    "test_results = quick_test(dt_depth_16, X_100, y_100)\n",
    "y_true = test_results[4]\n",
    "y_pred = test_results[5]\n",
    "F1_C_tenth = np.round(f1_score(y_true, y_pred), 3)\n",
    "y_score = test_results[6][:,1]\n",
    "ROC_AUC_C_tenth = np.round(roc_auc_score(y_true, y_score), 3)\n",
    "print('F1 Score:........', F1_C_tenth)\n",
    "print('ROC AUC Score:...', ROC_AUC_C_tenth)"
   ]
  },
  {
   "cell_type": "code",
   "execution_count": 23,
   "id": "893aa56b",
   "metadata": {},
   "outputs": [
    {
     "name": "stdout",
     "output_type": "stream",
     "text": [
      "F1 Score:........ 0.772\n",
      "ROC AUC Score:... 0.799\n"
     ]
    }
   ],
   "source": [
    "# F1 & ROC Score\n",
    "# 100% Features, Max Depth = 4:\n",
    "test_results = quick_test(dt_depth_4, X_100, y_100)\n",
    "y_true = test_results[4]\n",
    "y_pred = test_results[5]\n",
    "F1_C_tenth = np.round(f1_score(y_true, y_pred), 3)\n",
    "y_score = test_results[6][:,1]\n",
    "ROC_AUC_C_tenth = np.round(roc_auc_score(y_true, y_score), 3)\n",
    "print('F1 Score:........', F1_C_tenth)\n",
    "print('ROC AUC Score:...', ROC_AUC_C_tenth)"
   ]
  },
  {
   "cell_type": "code",
   "execution_count": 24,
   "id": "b9749fec",
   "metadata": {},
   "outputs": [
    {
     "name": "stdout",
     "output_type": "stream",
     "text": [
      "F1 Score:........ 0.823\n",
      "ROC AUC Score:... 0.858\n"
     ]
    }
   ],
   "source": [
    "# F1 & ROC Score\n",
    "# 50% Features, Max Depth = None:\n",
    "test_results = quick_test(dt_depth_None, X_50, y_50)\n",
    "y_true = test_results[4]\n",
    "y_pred = test_results[5]\n",
    "F1_C_tenth = np.round(f1_score(y_true, y_pred), 3)\n",
    "y_score = test_results[6][:,1]\n",
    "ROC_AUC_C_tenth = np.round(roc_auc_score(y_true, y_score), 3)\n",
    "print('F1 Score:........', F1_C_tenth)\n",
    "print('ROC AUC Score:...', ROC_AUC_C_tenth)"
   ]
  },
  {
   "cell_type": "code",
   "execution_count": 25,
   "id": "2220a9f0",
   "metadata": {},
   "outputs": [
    {
     "name": "stdout",
     "output_type": "stream",
     "text": [
      "F1 Score:........ 0.82\n",
      "ROC AUC Score:... 0.871\n"
     ]
    }
   ],
   "source": [
    "# F1 & ROC Score\n",
    "# 50% Features, Max Depth = 16:\n",
    "test_results = quick_test(dt_depth_16, X_50, y_50)\n",
    "y_true = test_results[4]\n",
    "y_pred = test_results[5]\n",
    "F1_C_tenth = np.round(f1_score(y_true, y_pred), 3)\n",
    "y_score = test_results[6][:,1]\n",
    "ROC_AUC_C_tenth = np.round(roc_auc_score(y_true, y_score), 3)\n",
    "print('F1 Score:........', F1_C_tenth)\n",
    "print('ROC AUC Score:...', ROC_AUC_C_tenth)"
   ]
  },
  {
   "cell_type": "code",
   "execution_count": 26,
   "id": "723b9b7c",
   "metadata": {},
   "outputs": [
    {
     "name": "stdout",
     "output_type": "stream",
     "text": [
      "F1 Score:........ 0.789\n",
      "ROC AUC Score:... 0.777\n"
     ]
    }
   ],
   "source": [
    "# F1 & ROC Score\n",
    "# 50% Features, Max Depth = 4:\n",
    "test_results = quick_test(dt_depth_4, X_50, y_50)\n",
    "y_true = test_results[4]\n",
    "y_pred = test_results[5]\n",
    "F1_C_tenth = np.round(f1_score(y_true, y_pred), 3)\n",
    "y_score = test_results[6][:,1]\n",
    "ROC_AUC_C_tenth = np.round(roc_auc_score(y_true, y_score), 3)\n",
    "print('F1 Score:........', F1_C_tenth)\n",
    "print('ROC AUC Score:...', ROC_AUC_C_tenth)"
   ]
  },
  {
   "cell_type": "code",
   "execution_count": 27,
   "id": "873ec10e",
   "metadata": {},
   "outputs": [],
   "source": [
    "rf_n_10_depth_16 = RandomForestClassifier(n_estimators=10, max_depth=16)\n",
    "rf_n_100_depth_16 = RandomForestClassifier(n_estimators=100, max_depth=16)\n",
    "rf_n_1000_depth_16 = RandomForestClassifier(n_estimators=1000, max_depth=16)"
   ]
  },
  {
   "cell_type": "code",
   "execution_count": 28,
   "id": "83903e69",
   "metadata": {},
   "outputs": [
    {
     "name": "stdout",
     "output_type": "stream",
     "text": [
      "F1 Score:........ 0.831\n",
      "ROC AUC Score:... 0.886\n"
     ]
    }
   ],
   "source": [
    "# F1 & ROC Score\n",
    "# 100% Features, n = 10 Max Depth = 16:\n",
    "test_results = quick_test(rf_n_10_depth_16, X_100, y_100)\n",
    "y_true = test_results[4]\n",
    "y_pred = test_results[5]\n",
    "F1_C_tenth = np.round(f1_score(y_true, y_pred), 3)\n",
    "y_score = test_results[6][:,1]\n",
    "ROC_AUC_C_tenth = np.round(roc_auc_score(y_true, y_score), 3)\n",
    "print('F1 Score:........', F1_C_tenth)\n",
    "print('ROC AUC Score:...', ROC_AUC_C_tenth)"
   ]
  },
  {
   "cell_type": "code",
   "execution_count": 29,
   "id": "75e19789",
   "metadata": {},
   "outputs": [
    {
     "name": "stdout",
     "output_type": "stream",
     "text": [
      "F1 Score:........ 0.837\n",
      "ROC AUC Score:... 0.891\n"
     ]
    }
   ],
   "source": [
    "# F1 & ROC Score\n",
    "# 100% Features, n = 100 Max Depth = 16:\n",
    "test_results = quick_test(rf_n_100_depth_16, X_100, y_100)\n",
    "y_true = test_results[4]\n",
    "y_pred = test_results[5]\n",
    "F1_C_tenth = np.round(f1_score(y_true, y_pred), 3)\n",
    "y_score = test_results[6][:,1]\n",
    "ROC_AUC_C_tenth = np.round(roc_auc_score(y_true, y_score), 3)\n",
    "print('F1 Score:........', F1_C_tenth)\n",
    "print('ROC AUC Score:...', ROC_AUC_C_tenth)"
   ]
  },
  {
   "cell_type": "code",
   "execution_count": 30,
   "id": "ca0cd7f0",
   "metadata": {},
   "outputs": [
    {
     "name": "stdout",
     "output_type": "stream",
     "text": [
      "F1 Score:........ 0.836\n",
      "ROC AUC Score:... 0.894\n"
     ]
    }
   ],
   "source": [
    "# F1 & ROC Score\n",
    "# 100% Features, n = 1000 Max Depth = 16:\n",
    "test_results = quick_test(rf_n_1000_depth_16, X_100, y_100)\n",
    "y_true = test_results[4]\n",
    "y_pred = test_results[5]\n",
    "F1_C_tenth = np.round(f1_score(y_true, y_pred), 3)\n",
    "y_score = test_results[6][:,1]\n",
    "ROC_AUC_C_tenth = np.round(roc_auc_score(y_true, y_score), 3)\n",
    "print('F1 Score:........', F1_C_tenth)\n",
    "print('ROC AUC Score:...', ROC_AUC_C_tenth)"
   ]
  },
  {
   "cell_type": "code",
   "execution_count": 31,
   "id": "6d6ddd01",
   "metadata": {},
   "outputs": [
    {
     "name": "stdout",
     "output_type": "stream",
     "text": [
      "F1 Score:........ 0.814\n",
      "ROC AUC Score:... 0.866\n"
     ]
    }
   ],
   "source": [
    "# F1 & ROC Score\n",
    "# 50% Features, n = 10 Max Depth = 16:\n",
    "test_results = quick_test(rf_n_10_depth_16, X_50, y_50)\n",
    "y_true = test_results[4]\n",
    "y_pred = test_results[5]\n",
    "F1_C_tenth = np.round(f1_score(y_true, y_pred), 3)\n",
    "y_score = test_results[6][:,1]\n",
    "ROC_AUC_C_tenth = np.round(roc_auc_score(y_true, y_score), 3)\n",
    "print('F1 Score:........', F1_C_tenth)\n",
    "print('ROC AUC Score:...', ROC_AUC_C_tenth)"
   ]
  },
  {
   "cell_type": "code",
   "execution_count": 32,
   "id": "d3b96a59",
   "metadata": {},
   "outputs": [
    {
     "name": "stdout",
     "output_type": "stream",
     "text": [
      "F1 Score:........ 0.819\n",
      "ROC AUC Score:... 0.875\n"
     ]
    }
   ],
   "source": [
    "# F1 & ROC Score\n",
    "# 50% Features, n = 100 Max Depth = 16:\n",
    "test_results = quick_test(rf_n_100_depth_16, X_50, y_50)\n",
    "y_true = test_results[4]\n",
    "y_pred = test_results[5]\n",
    "F1_C_tenth = np.round(f1_score(y_true, y_pred), 3)\n",
    "y_score = test_results[6][:,1]\n",
    "ROC_AUC_C_tenth = np.round(roc_auc_score(y_true, y_score), 3)\n",
    "print('F1 Score:........', F1_C_tenth)\n",
    "print('ROC AUC Score:...', ROC_AUC_C_tenth)"
   ]
  },
  {
   "cell_type": "code",
   "execution_count": 33,
   "id": "c687b989",
   "metadata": {},
   "outputs": [
    {
     "name": "stdout",
     "output_type": "stream",
     "text": [
      "F1 Score:........ 0.823\n",
      "ROC AUC Score:... 0.876\n"
     ]
    }
   ],
   "source": [
    "# F1 & ROC Score\n",
    "# 50% Features, n = 1000 Max Depth = 16:\n",
    "test_results = quick_test(rf_n_1000_depth_16, X_50, y_50)\n",
    "y_true = test_results[4]\n",
    "y_pred = test_results[5]\n",
    "F1_C_tenth = np.round(f1_score(y_true, y_pred), 3)\n",
    "y_score = test_results[6][:,1]\n",
    "ROC_AUC_C_tenth = np.round(roc_auc_score(y_true, y_score), 3)\n",
    "print('F1 Score:........', F1_C_tenth)\n",
    "print('ROC AUC Score:...', ROC_AUC_C_tenth)"
   ]
  },
  {
   "cell_type": "code",
   "execution_count": 52,
   "id": "d6f53758",
   "metadata": {},
   "outputs": [],
   "source": [
    "# Visualizing Trees\n",
    "# results = quick_test(dt_depth_16, X_50, y_50)\n",
    "# tree.export_graphviz(results[7], out_file='dtree_16_50.dot', feature_names = X_50.columns,\n",
    "#                 class_names = 'Binary_Rank',\n",
    "#                 rounded = True, proportion = False, \n",
    "#                 precision = 2, filled = True)\n",
    "# tree.plot_tree(results[7])"
   ]
  },
  {
   "cell_type": "code",
   "execution_count": 50,
   "id": "1ec95837",
   "metadata": {},
   "outputs": [],
   "source": [
    "# call(['dot', '-Tpng', 'dtree_16_50.dot', '-o', 'dtree_16_50.png', '-Gdpi=600'])"
   ]
  },
  {
   "cell_type": "code",
   "execution_count": 55,
   "id": "6f03fe00",
   "metadata": {},
   "outputs": [
    {
     "name": "stdout",
     "output_type": "stream",
     "text": [
      "F1 Score:........ 0.864\n",
      "ROC AUC Score:... 0.915\n"
     ]
    }
   ],
   "source": [
    "adaboost_16 = AdaBoostClassifier(base_estimator = dt_depth_16, n_estimators=100)\n",
    "test_results = quick_test(adaboost_16, X_100, y_100)\n",
    "y_true = test_results[4]\n",
    "y_pred = test_results[5]\n",
    "F1_C_tenth = np.round(f1_score(y_true, y_pred), 3)\n",
    "y_score = test_results[6][:,1]\n",
    "ROC_AUC_C_tenth = np.round(roc_auc_score(y_true, y_score), 3)\n",
    "print('Validation Score:...', test_results[0])\n",
    "print('Train Score:........', test_results[1])\n",
    "print('Overfit Score:......', test_results[2])\n",
    "print('Test Score:.........', test_results[3])\n",
    "print('F1 Score:...........', F1_C_tenth)\n",
    "print('ROC AUC Score:......', ROC_AUC_C_tenth)"
   ]
  },
  {
   "cell_type": "code",
   "execution_count": 59,
   "id": "1cf724e0",
   "metadata": {},
   "outputs": [
    {
     "name": "stdout",
     "output_type": "stream",
     "text": [
      "Validation Score:... 0.837\n",
      "Train Score:........ 0.993\n",
      "Overfit Score:...... 0.156\n",
      "Test Score:......... 0.848\n",
      "F1 Score:........... 0.867\n",
      "ROC AUC Score:...... 0.921\n"
     ]
    }
   ],
   "source": [
    "adaboost_16 = AdaBoostClassifier(base_estimator = dt_depth_16, n_estimators=50)\n",
    "test_results = quick_test(adaboost_16, X_100, y_100)\n",
    "y_true = test_results[4]\n",
    "y_pred = test_results[5]\n",
    "F1_C_tenth = np.round(f1_score(y_true, y_pred), 3)\n",
    "y_score = test_results[6][:,1]\n",
    "ROC_AUC_C_tenth = np.round(roc_auc_score(y_true, y_score), 3)\n",
    "print('Validation Score:...', test_results[0])\n",
    "print('Train Score:........', test_results[1])\n",
    "print('Overfit Score:......', test_results[2])\n",
    "print('Test Score:.........', test_results[3])\n",
    "print('F1 Score:...........', F1_C_tenth)\n",
    "print('ROC AUC Score:......', ROC_AUC_C_tenth)"
   ]
  },
  {
   "cell_type": "code",
   "execution_count": 58,
   "id": "94af55ad",
   "metadata": {},
   "outputs": [
    {
     "name": "stdout",
     "output_type": "stream",
     "text": [
      "Validation Score:... 0.839\n",
      "Train Score:........ 0.92\n",
      "Overfit Score:...... 0.081\n",
      "Test Score:......... 0.849\n",
      "F1 Score:........... 0.867\n",
      "ROC AUC Score:...... 0.905\n"
     ]
    }
   ],
   "source": [
    "adaboost_16 = AdaBoostClassifier(base_estimator = dt_depth_16, n_estimators=10)\n",
    "test_results = quick_test(adaboost_16, X_100, y_100)\n",
    "y_true = test_results[4]\n",
    "y_pred = test_results[5]\n",
    "F1_C_tenth = np.round(f1_score(y_true, y_pred), 3)\n",
    "y_score = test_results[6][:,1]\n",
    "ROC_AUC_C_tenth = np.round(roc_auc_score(y_true, y_score), 3)\n",
    "print('Validation Score:...', test_results[0])\n",
    "print('Train Score:........', test_results[1])\n",
    "print('Overfit Score:......', test_results[2])\n",
    "print('Test Score:.........', test_results[3])\n",
    "print('F1 Score:...........', F1_C_tenth)\n",
    "print('ROC AUC Score:......', ROC_AUC_C_tenth)"
   ]
  },
  {
   "cell_type": "code",
   "execution_count": 66,
   "id": "ff51a057",
   "metadata": {},
   "outputs": [
    {
     "name": "stdout",
     "output_type": "stream",
     "text": [
      "Validation Score:... 0.81\n",
      "Train Score:........ 0.898\n",
      "Overfit Score:...... 0.088\n",
      "Test Score:......... 0.816\n",
      "F1 Score:........... 0.839\n",
      "ROC AUC Score:...... 0.884\n"
     ]
    }
   ],
   "source": [
    "adaboost_16 = AdaBoostClassifier(base_estimator = dt_depth_16, n_estimators=100)\n",
    "test_results = quick_test(adaboost_16, X_50, y_50)\n",
    "y_true = test_results[4]\n",
    "y_pred = test_results[5]\n",
    "F1_C_tenth = np.round(f1_score(y_true, y_pred), 3)\n",
    "y_score = test_results[6][:,1]\n",
    "ROC_AUC_C_tenth = np.round(roc_auc_score(y_true, y_score), 3)\n",
    "print('Validation Score:...', test_results[0])\n",
    "print('Train Score:........', test_results[1])\n",
    "print('Overfit Score:......', test_results[2])\n",
    "print('Test Score:.........', test_results[3])\n",
    "print('F1 Score:...........', F1_C_tenth)\n",
    "print('ROC AUC Score:......', ROC_AUC_C_tenth)"
   ]
  },
  {
   "cell_type": "code",
   "execution_count": 65,
   "id": "ab33f6e5",
   "metadata": {},
   "outputs": [
    {
     "name": "stdout",
     "output_type": "stream",
     "text": [
      "Validation Score:... 0.807\n",
      "Train Score:........ 0.899\n",
      "Overfit Score:...... 0.092\n",
      "Test Score:......... 0.821\n",
      "F1 Score:........... 0.843\n",
      "ROC AUC Score:...... 0.894\n"
     ]
    }
   ],
   "source": [
    "adaboost_16 = AdaBoostClassifier(base_estimator = dt_depth_16, n_estimators=50)\n",
    "test_results = quick_test(adaboost_16, X_50, y_50)\n",
    "y_true = test_results[4]\n",
    "y_pred = test_results[5]\n",
    "F1_C_tenth = np.round(f1_score(y_true, y_pred), 3)\n",
    "y_score = test_results[6][:,1]\n",
    "ROC_AUC_C_tenth = np.round(roc_auc_score(y_true, y_score), 3)\n",
    "print('Validation Score:...', test_results[0])\n",
    "print('Train Score:........', test_results[1])\n",
    "print('Overfit Score:......', test_results[2])\n",
    "print('Test Score:.........', test_results[3])\n",
    "print('F1 Score:...........', F1_C_tenth)\n",
    "print('ROC AUC Score:......', ROC_AUC_C_tenth)"
   ]
  },
  {
   "cell_type": "code",
   "execution_count": 64,
   "id": "7f016802",
   "metadata": {},
   "outputs": [
    {
     "name": "stdout",
     "output_type": "stream",
     "text": [
      "Validation Score:... 0.81\n",
      "Train Score:........ 0.861\n",
      "Overfit Score:...... 0.051\n",
      "Test Score:......... 0.815\n",
      "F1 Score:........... 0.839\n",
      "ROC AUC Score:...... 0.895\n"
     ]
    }
   ],
   "source": [
    "adaboost_16 = AdaBoostClassifier(base_estimator = dt_depth_16, n_estimators=10)\n",
    "test_results = quick_test(adaboost_16, X_50, y_50)\n",
    "y_true = test_results[4]\n",
    "y_pred = test_results[5]\n",
    "F1_C_tenth = np.round(f1_score(y_true, y_pred), 3)\n",
    "y_score = test_results[6][:,1]\n",
    "ROC_AUC_C_tenth = np.round(roc_auc_score(y_true, y_score), 3)\n",
    "print('Validation Score:...', test_results[0])\n",
    "print('Train Score:........', test_results[1])\n",
    "print('Overfit Score:......', test_results[2])\n",
    "print('Test Score:.........', test_results[3])\n",
    "print('F1 Score:...........', F1_C_tenth)\n",
    "print('ROC AUC Score:......', ROC_AUC_C_tenth)"
   ]
  },
  {
   "cell_type": "code",
   "execution_count": 63,
   "id": "7611652e",
   "metadata": {},
   "outputs": [
    {
     "name": "stdout",
     "output_type": "stream",
     "text": [
      "Validation Score:... 0.805\n",
      "Train Score:........ 0.81\n",
      "Overfit Score:...... 0.005\n",
      "Test Score:......... 0.813\n",
      "F1 Score:........... 0.837\n",
      "ROC AUC Score:...... 0.894\n"
     ]
    }
   ],
   "source": [
    "gradboost_16 = GradientBoostingClassifier(n_estimators=100)\n",
    "test_results = quick_test(gradboost_16, X_100, y_100)\n",
    "y_true = test_results[4]\n",
    "y_pred = test_results[5]\n",
    "F1_C_tenth = np.round(f1_score(y_true, y_pred), 3)\n",
    "y_score = test_results[6][:,1]\n",
    "ROC_AUC_C_tenth = np.round(roc_auc_score(y_true, y_score), 3)\n",
    "print('Validation Score:...', test_results[0])\n",
    "print('Train Score:........', test_results[1])\n",
    "print('Overfit Score:......', test_results[2])\n",
    "print('Test Score:.........', test_results[3])\n",
    "print('F1 Score:...........', F1_C_tenth)\n",
    "print('ROC AUC Score:......', ROC_AUC_C_tenth)"
   ]
  },
  {
   "cell_type": "code",
   "execution_count": 62,
   "id": "08a709c5",
   "metadata": {},
   "outputs": [
    {
     "name": "stdout",
     "output_type": "stream",
     "text": [
      "Validation Score:... 0.793\n",
      "Train Score:........ 0.795\n",
      "Overfit Score:...... 0.002\n",
      "Test Score:......... 0.8\n",
      "F1 Score:........... 0.827\n",
      "ROC AUC Score:...... 0.882\n"
     ]
    }
   ],
   "source": [
    "gradboost_16 = GradientBoostingClassifier(n_estimators=50)\n",
    "test_results = quick_test(gradboost_16, X_100, y_100)\n",
    "y_true = test_results[4]\n",
    "y_pred = test_results[5]\n",
    "F1_C_tenth = np.round(f1_score(y_true, y_pred), 3)\n",
    "y_score = test_results[6][:,1]\n",
    "ROC_AUC_C_tenth = np.round(roc_auc_score(y_true, y_score), 3)\n",
    "print('Validation Score:...', test_results[0])\n",
    "print('Train Score:........', test_results[1])\n",
    "print('Overfit Score:......', test_results[2])\n",
    "print('Test Score:.........', test_results[3])\n",
    "print('F1 Score:...........', F1_C_tenth)\n",
    "print('ROC AUC Score:......', ROC_AUC_C_tenth)"
   ]
  },
  {
   "cell_type": "code",
   "execution_count": 61,
   "id": "2425ab1b",
   "metadata": {},
   "outputs": [
    {
     "name": "stdout",
     "output_type": "stream",
     "text": [
      "Validation Score:... 0.74\n",
      "Train Score:........ 0.738\n",
      "Overfit Score:...... 0.002\n",
      "Test Score:......... 0.737\n",
      "F1 Score:........... 0.791\n",
      "ROC AUC Score:...... 0.835\n"
     ]
    }
   ],
   "source": [
    "gradboost_16 = GradientBoostingClassifier(n_estimators=10)\n",
    "test_results = quick_test(gradboost_16, X_100, y_100)\n",
    "y_true = test_results[4]\n",
    "y_pred = test_results[5]\n",
    "F1_C_tenth = np.round(f1_score(y_true, y_pred), 3)\n",
    "y_score = test_results[6][:,1]\n",
    "ROC_AUC_C_tenth = np.round(roc_auc_score(y_true, y_score), 3)\n",
    "print('Validation Score:...', test_results[0])\n",
    "print('Train Score:........', test_results[1])\n",
    "print('Overfit Score:......', test_results[2])\n",
    "print('Test Score:.........', test_results[3])\n",
    "print('F1 Score:...........', F1_C_tenth)\n",
    "print('ROC AUC Score:......', ROC_AUC_C_tenth)"
   ]
  },
  {
   "cell_type": "code",
   "execution_count": 67,
   "id": "35ee0dc7",
   "metadata": {},
   "outputs": [
    {
     "name": "stdout",
     "output_type": "stream",
     "text": [
      "Validation Score:... 0.781\n",
      "Train Score:........ 0.782\n",
      "Overfit Score:...... 0.001\n",
      "Test Score:......... 0.786\n",
      "F1 Score:........... 0.818\n",
      "ROC AUC Score:...... 0.87\n"
     ]
    }
   ],
   "source": [
    "gradboost_16 = GradientBoostingClassifier(n_estimators=100)\n",
    "test_results = quick_test(gradboost_16, X_50, y_50)\n",
    "y_true = test_results[4]\n",
    "y_pred = test_results[5]\n",
    "F1_C_tenth = np.round(f1_score(y_true, y_pred), 3)\n",
    "y_score = test_results[6][:,1]\n",
    "ROC_AUC_C_tenth = np.round(roc_auc_score(y_true, y_score), 3)\n",
    "print('Validation Score:...', test_results[0])\n",
    "print('Train Score:........', test_results[1])\n",
    "print('Overfit Score:......', test_results[2])\n",
    "print('Test Score:.........', test_results[3])\n",
    "print('F1 Score:...........', F1_C_tenth)\n",
    "print('ROC AUC Score:......', ROC_AUC_C_tenth)"
   ]
  },
  {
   "cell_type": "code",
   "execution_count": 68,
   "id": "c98d0d53",
   "metadata": {},
   "outputs": [
    {
     "name": "stdout",
     "output_type": "stream",
     "text": [
      "Validation Score:... 0.76\n",
      "Train Score:........ 0.76\n",
      "Overfit Score:...... 0.0\n",
      "Test Score:......... 0.771\n",
      "F1 Score:........... 0.804\n",
      "ROC AUC Score:...... 0.856\n"
     ]
    }
   ],
   "source": [
    "gradboost_16 = GradientBoostingClassifier(n_estimators=50)\n",
    "test_results = quick_test(gradboost_16, X_50, y_50)\n",
    "y_true = test_results[4]\n",
    "y_pred = test_results[5]\n",
    "F1_C_tenth = np.round(f1_score(y_true, y_pred), 3)\n",
    "y_score = test_results[6][:,1]\n",
    "ROC_AUC_C_tenth = np.round(roc_auc_score(y_true, y_score), 3)\n",
    "print('Validation Score:...', test_results[0])\n",
    "print('Train Score:........', test_results[1])\n",
    "print('Overfit Score:......', test_results[2])\n",
    "print('Test Score:.........', test_results[3])\n",
    "print('F1 Score:...........', F1_C_tenth)\n",
    "print('ROC AUC Score:......', ROC_AUC_C_tenth)"
   ]
  },
  {
   "cell_type": "code",
   "execution_count": 69,
   "id": "8791cbba",
   "metadata": {},
   "outputs": [
    {
     "name": "stdout",
     "output_type": "stream",
     "text": [
      "Validation Score:... 0.721\n",
      "Train Score:........ 0.725\n",
      "Overfit Score:...... 0.004\n",
      "Test Score:......... 0.722\n",
      "F1 Score:........... 0.779\n",
      "ROC AUC Score:...... 0.808\n"
     ]
    }
   ],
   "source": [
    "gradboost_16 = GradientBoostingClassifier(n_estimators=10)\n",
    "test_results = quick_test(gradboost_16, X_50, y_50)\n",
    "y_true = test_results[4]\n",
    "y_pred = test_results[5]\n",
    "F1_C_tenth = np.round(f1_score(y_true, y_pred), 3)\n",
    "y_score = test_results[6][:,1]\n",
    "ROC_AUC_C_tenth = np.round(roc_auc_score(y_true, y_score), 3)\n",
    "print('Validation Score:...', test_results[0])\n",
    "print('Train Score:........', test_results[1])\n",
    "print('Overfit Score:......', test_results[2])\n",
    "print('Test Score:.........', test_results[3])\n",
    "print('F1 Score:...........', F1_C_tenth)\n",
    "print('ROC AUC Score:......', ROC_AUC_C_tenth)"
   ]
  },
  {
   "cell_type": "code",
   "execution_count": 72,
   "id": "2c2073f9",
   "metadata": {},
   "outputs": [],
   "source": [
    "# Stacking:\n",
    "adaboost_16_50 = AdaBoostClassifier(base_estimator = dt_depth_16, n_estimators=50)\n",
    "adaboost_16_10 = AdaBoostClassifier(base_estimator = dt_depth_16, n_estimators=10)\n",
    "gradboost_16_100 = GradientBoostingClassifier(n_estimators=100)\n",
    "model_list = [('ada_50', adaboost_16_50), ('ada_10', adaboost_16_10), ('grad_100', gradboost_16_100)]\n",
    "best_metrics_stack = StackingClassifier(estimators = model_list, final_estimator = LogisticRegression())"
   ]
  },
  {
   "cell_type": "code",
   "execution_count": 73,
   "id": "7e1bded2",
   "metadata": {},
   "outputs": [
    {
     "name": "stdout",
     "output_type": "stream",
     "text": [
      "Validation Score:... 0.854\n",
      "Train Score:........ 0.973\n",
      "Overfit Score:...... 0.119\n",
      "Test Score:......... 0.863\n",
      "F1 Score:........... 0.88\n",
      "ROC AUC Score:...... 0.939\n"
     ]
    }
   ],
   "source": [
    "test_results = quick_test(best_metrics_stack, X_100, y_100)\n",
    "y_true = test_results[4]\n",
    "y_pred = test_results[5]\n",
    "F1_C_tenth = np.round(f1_score(y_true, y_pred), 3)\n",
    "y_score = test_results[6][:,1]\n",
    "ROC_AUC_C_tenth = np.round(roc_auc_score(y_true, y_score), 3)\n",
    "print('Validation Score:...', test_results[0])\n",
    "print('Train Score:........', test_results[1])\n",
    "print('Overfit Score:......', test_results[2])\n",
    "print('Test Score:.........', test_results[3])\n",
    "print('F1 Score:...........', F1_C_tenth)\n",
    "print('ROC AUC Score:......', ROC_AUC_C_tenth)"
   ]
  },
  {
   "cell_type": "code",
   "execution_count": 74,
   "id": "2fad1fb4",
   "metadata": {},
   "outputs": [],
   "source": [
    "logReg = LogisticRegression(C = 1)\n",
    "randForst = RandomForestClassifier(n_estimators=1000, max_depth=16)\n",
    "adaBoost = AdaBoostClassifier(base_estimator = dt_depth_16, n_estimators=10)\n",
    "gradBoost = GradientBoostingClassifier(n_estimators=100)\n",
    "\n",
    "diverse_model_list = [('logReg', logReg), ('randForst', randForst), ('adaBoost', adaBoost), ('gradBoost', gradBoost)]\n",
    "best_metrics_stack = StackingClassifier(estimators = diverse_model_list, final_estimator = LogisticRegression())"
   ]
  },
  {
   "cell_type": "code",
   "execution_count": 75,
   "id": "2a71c317",
   "metadata": {},
   "outputs": [
    {
     "name": "stdout",
     "output_type": "stream",
     "text": [
      "Validation Score:... 0.835\n",
      "Train Score:........ 0.892\n",
      "Overfit Score:...... 0.057\n",
      "Test Score:......... 0.842\n",
      "F1 Score:........... 0.861\n",
      "ROC AUC Score:...... 0.922\n"
     ]
    }
   ],
   "source": [
    "test_results = quick_test(best_metrics_stack, X_100, y_100)\n",
    "y_true = test_results[4]\n",
    "y_pred = test_results[5]\n",
    "F1_C_tenth = np.round(f1_score(y_true, y_pred), 3)\n",
    "y_score = test_results[6][:,1]\n",
    "ROC_AUC_C_tenth = np.round(roc_auc_score(y_true, y_score), 3)\n",
    "print('Validation Score:...', test_results[0])\n",
    "print('Train Score:........', test_results[1])\n",
    "print('Overfit Score:......', test_results[2])\n",
    "print('Test Score:.........', test_results[3])\n",
    "print('F1 Score:...........', F1_C_tenth)\n",
    "print('ROC AUC Score:......', ROC_AUC_C_tenth)"
   ]
  },
  {
   "cell_type": "code",
   "execution_count": 76,
   "id": "5dcea9af",
   "metadata": {},
   "outputs": [],
   "source": [
    " # Best 100% Features Stack\n",
    "logReg = LogisticRegression(C = 1)\n",
    "dTree = DecisionTreeClassifier(max_depth=16)\n",
    "randForst = RandomForestClassifier(n_estimators=100, max_depth=16)\n",
    "adaBoost = AdaBoostClassifier(base_estimator = dt_depth_16, n_estimators=10)\n",
    "gradBoost = GradientBoostingClassifier(n_estimators=100)\n",
    "\n",
    "diverse_model_list = [('logReg', logReg), ('dTree', dTree), ('randForst', randForst), ('adaBoost', adaBoost), ('gradBoost', gradBoost)]\n",
    "best_100_stack = StackingClassifier(estimators = diverse_model_list, final_estimator = LogisticRegression())"
   ]
  },
  {
   "cell_type": "code",
   "execution_count": 78,
   "id": "47ea1506",
   "metadata": {},
   "outputs": [
    {
     "name": "stdout",
     "output_type": "stream",
     "text": [
      "Validation Score:... 0.84\n",
      "Train Score:........ 0.897\n",
      "Overfit Score:...... 0.057\n",
      "Test Score:......... 0.839\n",
      "F1 Score:........... 0.859\n",
      "ROC AUC Score:...... 0.92\n"
     ]
    }
   ],
   "source": [
    "test_results_best_100_stack = quick_test(best_100_stack, X_100, y_100)\n",
    "y_true = test_results_best_100_stack[4]\n",
    "y_pred = test_results_best_100_stack[5]\n",
    "F1_C_tenth = np.round(f1_score(y_true, y_pred), 3)\n",
    "y_score = test_results_best_100_stack[6][:,1]\n",
    "ROC_AUC_C_tenth = np.round(roc_auc_score(y_true, y_score), 3)\n",
    "print('Validation Score:...', test_results_best_100_stack[0])\n",
    "print('Train Score:........', test_results_best_100_stack[1])\n",
    "print('Overfit Score:......', test_results_best_100_stack[2])\n",
    "print('Test Score:.........', test_results_best_100_stack[3])\n",
    "print('F1 Score:...........', F1_C_tenth)\n",
    "print('ROC AUC Score:......', ROC_AUC_C_tenth)"
   ]
  },
  {
   "cell_type": "code",
   "execution_count": 79,
   "id": "8ef07288",
   "metadata": {},
   "outputs": [],
   "source": [
    "# Best 50% Features Stack\n",
    "logReg = LogisticRegression(C = 10)\n",
    "dTree = DecisionTreeClassifier(max_depth=16)\n",
    "randForst = RandomForestClassifier(n_estimators=100, max_depth=16)\n",
    "adaBoost = AdaBoostClassifier(base_estimator = dt_depth_16, n_estimators=10)\n",
    "gradBoost = GradientBoostingClassifier(n_estimators=100)\n",
    "\n",
    "diverse_model_list = [('logReg', logReg), ('dTree', dTree), ('randForst', randForst), ('adaBoost', adaBoost), \n",
    "                      ('gradBoost', gradBoost)]\n",
    "best_50_stack = StackingClassifier(estimators = diverse_model_list, final_estimator = LogisticRegression())"
   ]
  },
  {
   "cell_type": "code",
   "execution_count": 80,
   "id": "a6cf5b49",
   "metadata": {},
   "outputs": [
    {
     "name": "stdout",
     "output_type": "stream",
     "text": [
      "Validation Score:... 0.814\n",
      "Train Score:........ 0.848\n",
      "Overfit Score:...... 0.034\n",
      "Test Score:......... 0.819\n",
      "F1 Score:........... 0.844\n",
      "ROC AUC Score:...... 0.905\n"
     ]
    }
   ],
   "source": [
    "test_results_best_50_stack = quick_test(best_50_stack, X_50, y_50)\n",
    "y_true = test_results_best_50_stack[4]\n",
    "y_pred = test_results_best_50_stack[5]\n",
    "F1_C_tenth = np.round(f1_score(y_true, y_pred), 3)\n",
    "y_score = test_results_best_50_stack[6][:,1]\n",
    "ROC_AUC_C_tenth = np.round(roc_auc_score(y_true, y_score), 3)\n",
    "print('Validation Score:...', test_results_best_50_stack[0])\n",
    "print('Train Score:........', test_results_best_50_stack[1])\n",
    "print('Overfit Score:......', test_results_best_50_stack[2])\n",
    "print('Test Score:.........', test_results_best_50_stack[3])\n",
    "print('F1 Score:...........', F1_C_tenth)\n",
    "print('ROC AUC Score:......', ROC_AUC_C_tenth)"
   ]
  },
  {
   "cell_type": "code",
   "execution_count": null,
   "id": "87ec7c09",
   "metadata": {},
   "outputs": [],
   "source": []
  }
 ],
 "metadata": {
  "kernelspec": {
   "display_name": "Python 3 (ipykernel)",
   "language": "python",
   "name": "python3"
  },
  "language_info": {
   "codemirror_mode": {
    "name": "ipython",
    "version": 3
   },
   "file_extension": ".py",
   "mimetype": "text/x-python",
   "name": "python",
   "nbconvert_exporter": "python",
   "pygments_lexer": "ipython3",
   "version": "3.9.7"
  }
 },
 "nbformat": 4,
 "nbformat_minor": 5
}
