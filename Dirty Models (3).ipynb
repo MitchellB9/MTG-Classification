{
 "cells": [
  {
   "cell_type": "code",
   "execution_count": 1,
   "id": "0f656896",
   "metadata": {},
   "outputs": [],
   "source": [
    "import pandas as pd\n",
    "import pickle\n",
    "import matplotlib.pyplot as plt\n",
    "%matplotlib inline\n",
    "import matplotlib.cm as cm\n",
    "import numpy as np\n",
    "import random"
   ]
  },
  {
   "cell_type": "code",
   "execution_count": 2,
   "id": "9779ca54",
   "metadata": {},
   "outputs": [],
   "source": [
    "from sklearn.tree import DecisionTreeClassifier\n",
    "from sklearn.ensemble import RandomForestClassifier\n",
    "from sklearn.linear_model import LogisticRegression\n",
    "from sklearn.model_selection import train_test_split\n",
    "from sklearn.metrics import precision_recall_curve"
   ]
  },
  {
   "cell_type": "code",
   "execution_count": 3,
   "id": "d5eb0d19",
   "metadata": {},
   "outputs": [],
   "source": [
    "import warnings\n",
    "warnings.filterwarnings('ignore')"
   ]
  },
  {
   "cell_type": "code",
   "execution_count": 4,
   "id": "b470415c",
   "metadata": {},
   "outputs": [],
   "source": [
    "with open('unique_cards', 'rb') as f:\n",
    "    unique_cards = pickle.load(f)\n",
    "    \n",
    "with open('cleaned_cards', 'rb') as f:\n",
    "    cleaned_cards = pickle.load(f)\n",
    "    \n",
    "with open('big_cards', 'rb') as f:\n",
    "    big_cards = pickle.load(f)"
   ]
  },
  {
   "cell_type": "code",
   "execution_count": 5,
   "id": "39471a1f",
   "metadata": {
    "scrolled": true
   },
   "outputs": [],
   "source": [
    "# pd.set_option('max_columns', None)\n",
    "# unique_cards.sample(1)"
   ]
  },
  {
   "cell_type": "code",
   "execution_count": 6,
   "id": "4e4cc257",
   "metadata": {},
   "outputs": [],
   "source": [
    "def quick_test(model, X, y):\n",
    "    xtrain, xtest, ytrain, ytest = train_test_split(X, y, test_size=0.3)\n",
    "    model.fit(xtrain, ytrain)\n",
    "    return model.score(xtest, ytest)\n",
    "\n",
    "def quick_test_afew_times(model, X, y, n=10):\n",
    "    return np.mean([quick_test(model, X, y) for j in range(n)])"
   ]
  },
  {
   "cell_type": "code",
   "execution_count": 7,
   "id": "174e0dac",
   "metadata": {},
   "outputs": [],
   "source": [
    "def quick_predict(model, X, y):\n",
    "    xtrain, xtest, ytrain, ytest = train_test_split(X, y, test_size=0.3)\n",
    "    model.fit(xtrain, ytrain)\n",
    "    return model.predict(xtest), ytest\n",
    "\n",
    "def quick_probas(model, X, y):\n",
    "    xtrain, xtest, ytrain, ytest = train_test_split(X, y, test_size=0.3)\n",
    "    model.fit(xtrain, ytrain)\n",
    "    return model.predict_proba(xtest), ytest"
   ]
  },
  {
   "cell_type": "code",
   "execution_count": 8,
   "id": "74b4da8f",
   "metadata": {},
   "outputs": [],
   "source": [
    "logreg = LogisticRegression(penalty='none')"
   ]
  },
  {
   "cell_type": "code",
   "execution_count": 9,
   "id": "fc343f16",
   "metadata": {},
   "outputs": [],
   "source": [
    "x = unique_cards.drop(columns = ['Binary_Rank', 'Normal_EDH_Rank', 'name', 'mana_cost', 'type_line', 'oracle_text', 'power', \n",
    "                                 'toughness', 'colors', 'color_identity', 'keywords', 'legalities', 'games', 'finishes',\n",
    "                                 'artist', 'flavor_text', 'prices', 'produced_mana', 'loyalty', 'card_faces', 'life_modifier',\n",
    "                                 'hand_modifier', 'edhrec_rank', 'penny_rank', 'set', 'set_name', 'set_type', 'rarity',\n",
    "                                 'released_at', 'double_sided', 'planeswalker', 'makes_mana', 'hand_modify', 'life_modify',\n",
    "                                 'lands', 'creature', 'enchantment', 'artifact', 'instant', 'sorcery', 'price'])\n",
    "y = unique_cards.loc[:, 'Binary_Rank']"
   ]
  },
  {
   "cell_type": "code",
   "execution_count": 10,
   "id": "e0fab533",
   "metadata": {},
   "outputs": [],
   "source": [
    "x = x.fillna(0.0)"
   ]
  },
  {
   "cell_type": "code",
   "execution_count": 11,
   "id": "fa1c4c83",
   "metadata": {},
   "outputs": [],
   "source": [
    "lr_score_dirty = quick_test_afew_times(logreg, x, y)\n",
    "lr_score_dirty = round(lr_score_dirty, 3)"
   ]
  },
  {
   "cell_type": "code",
   "execution_count": 12,
   "id": "6f7a210d",
   "metadata": {},
   "outputs": [],
   "source": [
    "lr_PR_results = quick_probas(logreg, x, y)\n",
    "lr_y_true = lr_PR_results[1]\n",
    "lr_probas_pred = lr_PR_results[0]"
   ]
  },
  {
   "cell_type": "code",
   "execution_count": 13,
   "id": "9d3e5ad7",
   "metadata": {},
   "outputs": [],
   "source": [
    "decisiontree = DecisionTreeClassifier(max_depth=4)\n",
    "dt_score_dirty = quick_test_afew_times(decisiontree, x, y)\n",
    "dt_score_dirty = round(dt_score_dirty, 3)"
   ]
  },
  {
   "cell_type": "code",
   "execution_count": 14,
   "id": "d3485988",
   "metadata": {},
   "outputs": [],
   "source": [
    "dt_PR_results = quick_probas(decisiontree, x, y)\n",
    "dt_y_true = dt_PR_results[1]\n",
    "dt_probas_pred = dt_PR_results[0]"
   ]
  },
  {
   "cell_type": "code",
   "execution_count": 15,
   "id": "e044672c",
   "metadata": {},
   "outputs": [],
   "source": [
    "randomforest = RandomForestClassifier(n_estimators=100)\n",
    "rf_score_dirty = quick_test_afew_times(randomforest, x, y)\n",
    "rf_score_dirty = round(rf_score_dirty, 3)"
   ]
  },
  {
   "cell_type": "code",
   "execution_count": 16,
   "id": "66ba636b",
   "metadata": {},
   "outputs": [],
   "source": [
    "rf_PR_results = quick_probas(randomforest, x, y)\n",
    "rf_y_true = rf_PR_results[1]\n",
    "rf_probas_pred = rf_PR_results[0]"
   ]
  },
  {
   "cell_type": "code",
   "execution_count": 13,
   "id": "93f0b625",
   "metadata": {},
   "outputs": [],
   "source": [
    "# Logistic Regression\n",
    "precision, recall, thresholds = precision_recall_curve(y_true = np.array(lr_y_true), probas_pred = np.array(lr_probas_pred)[:,1])"
   ]
  },
  {
   "cell_type": "code",
   "execution_count": 14,
   "id": "97ed9629",
   "metadata": {},
   "outputs": [
    {
     "data": {
      "image/png": "[encoded data removed]",
      "text/plain": [
       "<Figure size 432x288 with 1 Axes>"
      ]
     },
     "metadata": {
      "needs_background": "light"
     },
     "output_type": "display_data"
    }
   ],
   "source": [
    "plt.plot(recall, precision, color='b')\n",
    "plt.xlabel('Recall')\n",
    "plt.ylabel('Precision')\n",
    "plt.title(f'Dirty Data - Logistic Regression Model: {lr_score_dirty}')\n",
    "plt.show()"
   ]
  },
  {
   "cell_type": "code",
   "execution_count": 19,
   "id": "acea2b4a",
   "metadata": {},
   "outputs": [
    {
     "data": {
      "text/plain": [
       "7795"
      ]
     },
     "execution_count": 19,
     "metadata": {},
     "output_type": "execute_result"
    }
   ],
   "source": [
    "len(lr_probas_pred)"
   ]
  },
  {
   "cell_type": "code",
   "execution_count": 19,
   "id": "1c114102",
   "metadata": {},
   "outputs": [],
   "source": [
    "# Decision Tree\n",
    "precision, recall, thresholds = precision_recall_curve(y_true = np.array(dt_y_true), probas_pred = np.array(dt_probas_pred)[:,1])"
   ]
  },
  {
   "cell_type": "code",
   "execution_count": 20,
   "id": "4f12526b",
   "metadata": {},
   "outputs": [
    {
     "data": {
      "image/png": "[encoded data removed]",
      "text/plain": [
       "<Figure size 432x288 with 1 Axes>"
      ]
     },
     "metadata": {
      "needs_background": "light"
     },
     "output_type": "display_data"
    }
   ],
   "source": [
    "plt.plot(recall, precision, color='brown')\n",
    "plt.xlabel('Recall')\n",
    "plt.ylabel('Precision')\n",
    "plt.title(f'Dirty Data - Decision Tree Model: {dt_score_dirty}')\n",
    "plt.show()"
   ]
  },
  {
   "cell_type": "code",
   "execution_count": 21,
   "id": "e1ee9ed4",
   "metadata": {},
   "outputs": [],
   "source": [
    "# Random Forest\n",
    "precision, recall, thresholds = precision_recall_curve(y_true = np.array(rf_y_true), probas_pred = np.array(rf_probas_pred)[:,1])"
   ]
  },
  {
   "cell_type": "code",
   "execution_count": 22,
   "id": "313d0056",
   "metadata": {},
   "outputs": [
    {
     "data": {
      "image/png": "[encoded data removed]",
      "text/plain": [
       "<Figure size 432x288 with 1 Axes>"
      ]
     },
     "metadata": {
      "needs_background": "light"
     },
     "output_type": "display_data"
    }
   ],
   "source": [
    "plt.plot(recall, precision, color='green')\n",
    "plt.xlabel('Recall')\n",
    "plt.ylabel('Precision')\n",
    "plt.title(f'Dirty Data - Random Forest Model: {rf_score_dirty}')\n",
    "plt.show()"
   ]
  },
  {
   "cell_type": "code",
   "execution_count": 23,
   "id": "c21f2537",
   "metadata": {},
   "outputs": [],
   "source": [
    "x1 = unique_cards.drop(columns = ['Binary_Rank', 'Normal_EDH_Rank', 'name', 'mana_cost', 'type_line', 'oracle_text', 'power', \n",
    "                                 'toughness', 'colors', 'color_identity', 'keywords', 'legalities', 'games', 'finishes',\n",
    "                                 'artist', 'flavor_text', 'prices', 'produced_mana', 'loyalty', 'card_faces', 'life_modifier',\n",
    "                                 'hand_modifier', 'edhrec_rank', 'penny_rank', 'set', 'set_name', 'set_type', 'rarity',\n",
    "                                 'released_at', 'double_sided', 'planeswalker', 'makes_mana', 'hand_modify', 'life_modify',\n",
    "                                 'lands', 'creature', 'enchantment', 'artifact', 'instant', 'sorcery', 'price'])\n",
    "y1 = unique_cards.loc[:, 'Binary_Rank']"
   ]
  },
  {
   "cell_type": "code",
   "execution_count": 24,
   "id": "21007c39",
   "metadata": {},
   "outputs": [],
   "source": [
    "x1 = x.fillna(0.0)"
   ]
  },
  {
   "cell_type": "code",
   "execution_count": 25,
   "id": "361cd25b",
   "metadata": {},
   "outputs": [],
   "source": [
    "lr_score_clean = quick_test_afew_times(logreg, x1, y1)\n",
    "lr_score_clean = round(lr_score_clean, 3)"
   ]
  },
  {
   "cell_type": "code",
   "execution_count": 26,
   "id": "97356fb2",
   "metadata": {},
   "outputs": [],
   "source": [
    "lr_PR_results = quick_probas(logreg, x1, y1)\n",
    "lr_y_true = lr_PR_results[1]\n",
    "lr_probas_pred = lr_PR_results[0]"
   ]
  },
  {
   "cell_type": "code",
   "execution_count": 27,
   "id": "7c5dffcf",
   "metadata": {},
   "outputs": [],
   "source": [
    "decisiontree = DecisionTreeClassifier(max_depth=4)\n",
    "dt_score_clean = quick_test_afew_times(decisiontree, x1, y1)\n",
    "dt_score_clean = round(dt_score_clean, 3)"
   ]
  },
  {
   "cell_type": "code",
   "execution_count": 28,
   "id": "de9b99ac",
   "metadata": {},
   "outputs": [],
   "source": [
    "dt_PR_results = quick_probas(decisiontree, x1, y1)\n",
    "dt_y_true = dt_PR_results[1]\n",
    "dt_probas_pred = dt_PR_results[0]"
   ]
  },
  {
   "cell_type": "code",
   "execution_count": 29,
   "id": "7d4188bb",
   "metadata": {},
   "outputs": [],
   "source": [
    "randomforest = RandomForestClassifier(n_estimators=100)\n",
    "rf_score_clean = quick_test_afew_times(randomforest, x1, y1)\n",
    "rf_score_clean = round(rf_score_clean, 3)"
   ]
  },
  {
   "cell_type": "code",
   "execution_count": 30,
   "id": "3390cfcc",
   "metadata": {},
   "outputs": [],
   "source": [
    "rf_PR_results = quick_probas(randomforest, x1, y1)\n",
    "rf_y_true = rf_PR_results[1]\n",
    "rf_probas_pred = rf_PR_results[0]"
   ]
  },
  {
   "cell_type": "code",
   "execution_count": 31,
   "id": "2571db18",
   "metadata": {},
   "outputs": [],
   "source": [
    "precision, recall, thresholds = precision_recall_curve(y_true = np.array(lr_y_true), probas_pred = np.array(lr_probas_pred)[:,1])"
   ]
  },
  {
   "cell_type": "code",
   "execution_count": 32,
   "id": "83231b74",
   "metadata": {},
   "outputs": [
    {
     "data": {
      "image/png": "[encoded data removed]",
      "text/plain": [
       "<Figure size 432x288 with 1 Axes>"
      ]
     },
     "metadata": {
      "needs_background": "light"
     },
     "output_type": "display_data"
    }
   ],
   "source": [
    "plt.plot(recall, precision, color='b')\n",
    "plt.xlabel('Recall')\n",
    "plt.ylabel('Precision')\n",
    "plt.title(f'Cleaned Data - Logistic Regression Model: {lr_score_clean}')\n",
    "plt.show()"
   ]
  },
  {
   "cell_type": "code",
   "execution_count": 33,
   "id": "f6c874b2",
   "metadata": {},
   "outputs": [],
   "source": [
    "precision, recall, thresholds = precision_recall_curve(y_true = np.array(dt_y_true), probas_pred = np.array(dt_probas_pred)[:,1])"
   ]
  },
  {
   "cell_type": "code",
   "execution_count": 34,
   "id": "44235264",
   "metadata": {},
   "outputs": [
    {
     "data": {
      "image/png": "[encoded data removed]",
      "text/plain": [
       "<Figure size 432x288 with 1 Axes>"
      ]
     },
     "metadata": {
      "needs_background": "light"
     },
     "output_type": "display_data"
    }
   ],
   "source": [
    "plt.plot(recall, precision, color='brown')\n",
    "plt.xlabel('Recall')\n",
    "plt.ylabel('Precision')\n",
    "plt.title(f'Cleaned Data - Decision Tree Model: {dt_score_clean}')\n",
    "plt.show()"
   ]
  },
  {
   "cell_type": "code",
   "execution_count": 35,
   "id": "491bf2eb",
   "metadata": {},
   "outputs": [],
   "source": [
    "precision, recall, thresholds = precision_recall_curve(y_true = np.array(rf_y_true), probas_pred = np.array(rf_probas_pred)[:,1])"
   ]
  },
  {
   "cell_type": "code",
   "execution_count": 36,
   "id": "601a6b39",
   "metadata": {},
   "outputs": [
    {
     "data": {
      "image/png": "[encoded data removed]",
      "text/plain": [
       "<Figure size 432x288 with 1 Axes>"
      ]
     },
     "metadata": {
      "needs_background": "light"
     },
     "output_type": "display_data"
    }
   ],
   "source": [
    "plt.plot(recall, precision, color='green')\n",
    "plt.xlabel('Recall')\n",
    "plt.ylabel('Precision')\n",
    "plt.title(f'Cleaned Data - Random Forest Model: {rf_score_clean}')\n",
    "plt.show()"
   ]
  },
  {
   "cell_type": "code",
   "execution_count": 37,
   "id": "8e1f0d7c",
   "metadata": {},
   "outputs": [],
   "source": [
    "# pd.set_option('max_columns', None)\n",
    "# big_cards.sample(1)"
   ]
  },
  {
   "cell_type": "code",
   "execution_count": 38,
   "id": "8516be2b",
   "metadata": {},
   "outputs": [],
   "source": [
    "# x2 = big_cards.drop(columns = ['name', 'released_at', 'mana_cost', 'type_line', 'oracle_text', 'power', 'toughness', 'colors',\n",
    "#                                'color_identity', 'keywords', 'legalities', 'games', 'finishes', 'set', 'set_name', 'set_type',\n",
    "#                                'rarity', 'flavor_text', 'artist', 'edhrec_rank', 'penny_rank', 'produced_mana', 'loyalty',\n",
    "#                                'card_faces', 'Tribes', 'Normal_EDH_Rank', 'Binary_Rank', 'hand_modify', 'life_modify'])\n",
    "\n",
    "x2 = big_cards.drop(columns = 'Binary_Rank')\n",
    "\n",
    "y2 = big_cards.loc[:, 'Binary_Rank']"
   ]
  },
  {
   "cell_type": "code",
   "execution_count": 39,
   "id": "5a552ef0",
   "metadata": {},
   "outputs": [],
   "source": [
    "x2 = x2.fillna(0.0)"
   ]
  },
  {
   "cell_type": "code",
   "execution_count": 40,
   "id": "7863c24e",
   "metadata": {},
   "outputs": [],
   "source": [
    "lr_score_big = quick_test_afew_times(logreg, x2, y2)\n",
    "lr_score_big = round(lr_score_big, 3)"
   ]
  },
  {
   "cell_type": "code",
   "execution_count": 41,
   "id": "1ef38219",
   "metadata": {},
   "outputs": [],
   "source": [
    "lr_PR_results = quick_probas(logreg, x2, y2)\n",
    "lr_y_true = lr_PR_results[1]\n",
    "lr_probas_pred = lr_PR_results[0]"
   ]
  },
  {
   "cell_type": "code",
   "execution_count": 42,
   "id": "da18be0e",
   "metadata": {},
   "outputs": [],
   "source": [
    "decisiontree = DecisionTreeClassifier(max_depth=4)\n",
    "dt_score_big = quick_test_afew_times(decisiontree, x2, y2)\n",
    "dt_score_big = round(dt_score_big, 3)"
   ]
  },
  {
   "cell_type": "code",
   "execution_count": 43,
   "id": "e3e0340a",
   "metadata": {},
   "outputs": [],
   "source": [
    "dt_PR_results = quick_probas(decisiontree, x2, y2)\n",
    "dt_y_true = dt_PR_results[1]\n",
    "dt_probas_pred = dt_PR_results[0]"
   ]
  },
  {
   "cell_type": "code",
   "execution_count": 44,
   "id": "3447d5c9",
   "metadata": {},
   "outputs": [],
   "source": [
    "randomforest = RandomForestClassifier(n_estimators=100)\n",
    "rf_score_big = quick_test_afew_times(randomforest, x2, y2)\n",
    "rf_score_big = round(rf_score_big, 3)"
   ]
  },
  {
   "cell_type": "code",
   "execution_count": 45,
   "id": "a6ebe9cb",
   "metadata": {},
   "outputs": [],
   "source": [
    "rf_PR_results = quick_probas(randomforest, x2, y2)\n",
    "rf_y_true = rf_PR_results[1]\n",
    "rf_probas_pred = rf_PR_results[0]"
   ]
  },
  {
   "cell_type": "code",
   "execution_count": 46,
   "id": "d82dfbce",
   "metadata": {},
   "outputs": [],
   "source": [
    "# Logistic Regression\n",
    "precision, recall, thresholds = precision_recall_curve(y_true = np.array(lr_y_true), probas_pred = np.array(lr_probas_pred)[:,1])"
   ]
  },
  {
   "cell_type": "code",
   "execution_count": 47,
   "id": "a6771faa",
   "metadata": {},
   "outputs": [
    {
     "data": {
      "image/png": "[encoded data removed]",
      "text/plain": [
       "<Figure size 432x288 with 1 Axes>"
      ]
     },
     "metadata": {
      "needs_background": "light"
     },
     "output_type": "display_data"
    }
   ],
   "source": [
    "plt.plot(recall, precision, color='b')\n",
    "plt.xlabel('Recall')\n",
    "plt.ylabel('Precision')\n",
    "plt.title(f'Big Data - Logistic Regression Model: {lr_score_big}')\n",
    "plt.show()"
   ]
  },
  {
   "cell_type": "code",
   "execution_count": 48,
   "id": "77bcff6b",
   "metadata": {},
   "outputs": [],
   "source": [
    "# Decision Tree\n",
    "precision, recall, thresholds = precision_recall_curve(y_true = np.array(dt_y_true), probas_pred = np.array(dt_probas_pred)[:,1])"
   ]
  },
  {
   "cell_type": "code",
   "execution_count": 49,
   "id": "f3750203",
   "metadata": {},
   "outputs": [
    {
     "data": {
      "image/png": "[encoded data removed]",
      "text/plain": [
       "<Figure size 432x288 with 1 Axes>"
      ]
     },
     "metadata": {
      "needs_background": "light"
     },
     "output_type": "display_data"
    }
   ],
   "source": [
    "plt.plot(recall, precision, color='brown')\n",
    "plt.xlabel('Recall')\n",
    "plt.ylabel('Precision')\n",
    "plt.title(f'Big Data - Decision Tree Model: {dt_score_big}')\n",
    "plt.show()"
   ]
  },
  {
   "cell_type": "code",
   "execution_count": 50,
   "id": "131d14eb",
   "metadata": {},
   "outputs": [],
   "source": [
    "# Random Forest\n",
    "precision, recall, thresholds = precision_recall_curve(y_true = np.array(rf_y_true), probas_pred = np.array(rf_probas_pred)[:,1])"
   ]
  },
  {
   "cell_type": "code",
   "execution_count": 51,
   "id": "5452decf",
   "metadata": {},
   "outputs": [
    {
     "data": {
      "image/png": "[encoded data removed]",
      "text/plain": [
       "<Figure size 432x288 with 1 Axes>"
      ]
     },
     "metadata": {
      "needs_background": "light"
     },
     "output_type": "display_data"
    }
   ],
   "source": [
    "plt.plot(recall, precision, color='green')\n",
    "plt.xlabel('Recall')\n",
    "plt.ylabel('Precision')\n",
    "plt.title(f'Big Data - Random Forest Model: {rf_score_big}')\n",
    "plt.show()"
   ]
  },
  {
   "cell_type": "code",
   "execution_count": 52,
   "id": "a801c040",
   "metadata": {},
   "outputs": [],
   "source": [
    "# trade study\n",
    "# correlation threshold"
   ]
  }
 ],
 "metadata": {
  "kernelspec": {
   "display_name": "Python 3 (ipykernel)",
   "language": "python",
   "name": "python3"
  },
  "language_info": {
   "codemirror_mode": {
    "name": "ipython",
    "version": 3
   },
   "file_extension": ".py",
   "mimetype": "text/x-python",
   "name": "python",
   "nbconvert_exporter": "python",
   "pygments_lexer": "ipython3",
   "version": "3.9.7"
  }
 },
 "nbformat": 4,
 "nbformat_minor": 5
}
